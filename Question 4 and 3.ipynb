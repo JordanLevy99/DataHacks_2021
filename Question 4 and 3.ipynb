{
 "cells": [
  {
   "cell_type": "code",
   "execution_count": 1,
   "id": "cathedral-allergy",
   "metadata": {},
   "outputs": [],
   "source": [
    "from src.etl import *\n",
    "from src.model_pillars import *"
   ]
  },
  {
   "cell_type": "code",
   "execution_count": 8,
   "id": "statutory-friendship",
   "metadata": {},
   "outputs": [],
   "source": [
    "pe = PillarExplainer(mod='lasso', alpha=0.7)"
   ]
  },
  {
   "cell_type": "code",
   "execution_count": 9,
   "id": "fifty-moscow",
   "metadata": {},
   "outputs": [
    {
     "name": "stdout",
     "output_type": "stream",
     "text": [
      "Score of lasso model 0.9596139398825354\n"
     ]
    },
    {
     "name": "stderr",
     "output_type": "stream",
     "text": [
      "The option feature_dependence has been renamed to feature_perturbation!\n",
      "The option feature_perturbation=\"independent\" is has been renamed to feature_perturbation=\"interventional\"!\n",
      "The feature_perturbation option is now deprecated in favor of using the appropriate masker (maskers.Independent, or maskers.Impute)\n",
      "invalid value encountered in true_divide\n",
      "invalid value encountered in true_divide\n"
     ]
    },
    {
     "data": {
      "image/png": "[encoded data removed]",
      "text/plain": [
       "<Figure size 360x432 with 1 Axes>"
      ]
     },
     "metadata": {
      "needs_background": "light"
     },
     "output_type": "display_data"
    }
   ],
   "source": [
    "pe.get_impt_cat('busi')"
   ]
  },
  {
   "cell_type": "markdown",
   "id": "printable-flesh",
   "metadata": {},
   "source": [
    "**Question 4**"
   ]
  },
  {
   "cell_type": "markdown",
   "id": "bearing-thinking",
   "metadata": {},
   "source": [
    "**Get Pillar with most significant impact in country's overall prosperity score**\n"
   ]
  },
  {
   "cell_type": "code",
   "execution_count": 66,
   "id": "grave-recognition",
   "metadata": {},
   "outputs": [],
   "source": [
    "def plot_country_pillar(data, country, pillar):\n",
    "    '''\n",
    "    Plots country pillar values vs prosperity values with sns.lmplot\n",
    "    'data' is a subset of prosperity data as produced by get_prosperity_scores()\n",
    "    '''\n",
    "    pillar_dict = {'econ':'Economic Quality', 'busi':'Business Environment', 'gove':'Governance',\\\n",
    "                   'educ':'Education', 'heal':'Health', 'safe':'Safety and Security', 'pers':'Personal Freedom',\\\n",
    "                   'soci':'Social Capital', 'envi':'Natural Environment'}\n",
    "    country_data = data[data['country'] == country]\n",
    "    sns.lmplot(data=country_data, x=pillar, y='prosperity');\n",
    "    plt.grid();\n",
    "    plt.title(f'{pillar_dict[pillar]} vs Prosperity Scores for {country} (2007-2014)');\n",
    "    plt.xlabel(f'{pillar_dict[pillar]} score', fontsize=15);\n",
    "    plt.ylabel('Prosperity score', fontsize=15);\n",
    "    if os.path.exists('figures/impactful_pillars')==False: os.mkdir('figures/impactful_pillars')\n",
    "    plt.savefig(f'figures/impactful_pillars/{country}_impactful_pillar.png', dpi=800, bbox_inches='tight');\n",
    "    plt.close();"
   ]
  },
  {
   "cell_type": "code",
   "execution_count": 65,
   "id": "august-preference",
   "metadata": {},
   "outputs": [],
   "source": [
    "def top_five_countries_pillars():\n",
    "    '''\n",
    "    Analysis for the second part of question 4: \n",
    "    Finds the most impactful pillar for the top five growing countries by prosperity\n",
    "    Plots most impactful pillar vs overall prosperity for each country and saves as a .png\n",
    "    '''\n",
    "    top_five_grow = ['Chad', 'Togo', 'Zimbabwe', 'Ivory Coast', 'Georgia']\n",
    "    prosperity_data = get_prosperity_scores()\n",
    "    top_five_data = prosperity_data[prosperity_data['country'].isin(top_five_grow)]\n",
    "    top_five_data = top_five_data[['country']+list(top_five_data.columns[4:])]\n",
    "    top_pillars = top_five_data.groupby('country').apply(lambda x: x.corr()['prosperity'].iloc[:-1].idxmax())\n",
    "    top_pillars_dict = top_pillars.to_dict()\n",
    "    top_pillars_corr = {}\n",
    "    for country in top_pillars_dict:\n",
    "        pillar = top_pillars_dict[country]\n",
    "        plot_country_pillar(top_five_data, country, pillar)\n",
    "    return top_pillars"
   ]
  },
  {
   "cell_type": "code",
   "execution_count": null,
   "id": "thorough-cookbook",
   "metadata": {},
   "outputs": [],
   "source": []
  }
 ],
 "metadata": {
  "kernelspec": {
   "display_name": "Python 3",
   "language": "python",
   "name": "python3"
  },
  "language_info": {
   "codemirror_mode": {
    "name": "ipython",
    "version": 3
   },
   "file_extension": ".py",
   "mimetype": "text/x-python",
   "name": "python",
   "nbconvert_exporter": "python",
   "pygments_lexer": "ipython3",
   "version": "3.8.2"
  }
 },
 "nbformat": 4,
 "nbformat_minor": 5
}
