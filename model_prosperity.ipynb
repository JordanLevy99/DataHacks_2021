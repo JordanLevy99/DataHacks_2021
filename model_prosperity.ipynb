{
 "cells": [
  {
   "cell_type": "code",
   "execution_count": null,
   "id": "damaged-tokyo",
   "metadata": {},
   "outputs": [],
   "source": [
    "from src.model_pillars import *"
   ]
  },
  {
   "cell_type": "code",
   "execution_count": null,
   "id": "olive-roulette",
   "metadata": {},
   "outputs": [],
   "source": [
    "pe = PillarExplainer()"
   ]
  },
  {
   "cell_type": "code",
   "execution_count": null,
   "id": "other-ready",
   "metadata": {},
   "outputs": [],
   "source": [
    "pe.get_impt_cat('busi')"
   ]
  },
  {
   "cell_type": "code",
   "execution_count": 4,
   "id": "ignored-chuck",
   "metadata": {},
   "outputs": [
    {
     "data": {
      "text/plain": [
       "{'busi': Lasso(alpha=0.5),\n",
       " 'econ': Lasso(alpha=0.5),\n",
       " 'educ': Lasso(alpha=0.5),\n",
       " 'envi': Lasso(alpha=0.5),\n",
       " 'gove': Lasso(alpha=0.5),\n",
       " 'heal': Lasso(alpha=0.5),\n",
       " 'pers': Lasso(alpha=0.5),\n",
       " 'safe': Lasso(alpha=0.5),\n",
       " 'soci': Lasso(alpha=0.5)}"
      ]
     },
     "execution_count": 4,
     "metadata": {},
     "output_type": "execute_result"
    }
   ],
   "source": [
    "pe.models"
   ]
  },
  {
   "cell_type": "code",
   "execution_count": 7,
   "id": "flexible-father",
   "metadata": {},
   "outputs": [
    {
     "data": {
      "text/plain": [
       "dict_keys(['busi', 'econ', 'educ', 'envi', 'gove', 'heal', 'pers', 'safe', 'soci'])"
      ]
     },
     "execution_count": 7,
     "metadata": {},
     "output_type": "execute_result"
    }
   ],
   "source": [
    "pe.pillar_train.keys()"
   ]
  },
  {
   "cell_type": "code",
   "execution_count": null,
   "id": "skilled-collective",
   "metadata": {},
   "outputs": [],
   "source": []
  }
 ],
 "metadata": {
  "kernelspec": {
   "display_name": "Python 3",
   "language": "python",
   "name": "python3"
  },
  "language_info": {
   "codemirror_mode": {
    "name": "ipython",
    "version": 3
   },
   "file_extension": ".py",
   "mimetype": "text/x-python",
   "name": "python",
   "nbconvert_exporter": "python",
   "pygments_lexer": "ipython3",
   "version": "3.8.2"
  }
 },
 "nbformat": 4,
 "nbformat_minor": 5
}
