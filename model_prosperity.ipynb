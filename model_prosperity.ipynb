{
 "cells": [
  {
   "cell_type": "code",
   "execution_count": 1,
   "id": "norman-madness",
   "metadata": {},
   "outputs": [
    {
     "data": {
      "text/plain": [
       "'/home/jdlevy/Documents/GitHub/DataHacks_2021'"
      ]
     },
     "execution_count": 1,
     "metadata": {},
     "output_type": "execute_result"
    }
   ],
   "source": [
    "pwd"
   ]
  },
  {
   "cell_type": "code",
   "execution_count": 1,
   "id": "damaged-tokyo",
   "metadata": {},
   "outputs": [],
   "source": [
    "from src.model_pillars import *"
   ]
  },
  {
   "cell_type": "code",
   "execution_count": 2,
   "id": "olive-roulette",
   "metadata": {},
   "outputs": [],
   "source": [
    "pe = PillarExplainer()"
   ]
  },
  {
   "cell_type": "code",
   "execution_count": 1,
   "id": "other-ready",
   "metadata": {},
   "outputs": [],
   "source": [
    "from src.predict_prosperity import *"
   ]
  },
  {
   "cell_type": "code",
   "execution_count": 2,
   "id": "first-penalty",
   "metadata": {},
   "outputs": [
    {
     "name": "stdout",
     "output_type": "stream",
     "text": [
      "Score of SVR model 0.8951898448120074\n",
      "Score of lasso model 0.9695499260827306\n",
      "Elastic net model score is 0.9694782632605137 on test data\n",
      "Score of SVR model 0.9248435510634936\n",
      "Score of lasso model 0.9752659307879027\n",
      "Elastic net model score is 0.9752659307879027 on test data\n"
     ]
    },
    {
     "ename": "TypeError",
     "evalue": "'<' not supported between instances of 'ElasticNet' and 'Lasso'",
     "output_type": "error",
     "traceback": [
      "\u001b[0;31m---------------------------------------------------------------------------\u001b[0m",
      "\u001b[0;31mTypeError\u001b[0m                                 Traceback (most recent call last)",
      "\u001b[0;32m<ipython-input-2-519bef6aedd4>\u001b[0m in \u001b[0;36m<module>\u001b[0;34m\u001b[0m\n\u001b[0;32m----> 1\u001b[0;31m \u001b[0mpm\u001b[0m \u001b[0;34m=\u001b[0m \u001b[0mPredictionModel\u001b[0m\u001b[0;34m(\u001b[0m\u001b[0mmod\u001b[0m\u001b[0;34m=\u001b[0m\u001b[0;34m'ensemble'\u001b[0m\u001b[0;34m)\u001b[0m\u001b[0;34m\u001b[0m\u001b[0;34m\u001b[0m\u001b[0m\n\u001b[0m",
      "\u001b[0;32m~/Documents/GitHub/DataHacks_2021/src/predict_prosperity.py\u001b[0m in \u001b[0;36m__init__\u001b[0;34m(self, mod, random_state, test_size, alpha)\u001b[0m\n\u001b[1;32m      3\u001b[0m     \u001b[0;32mdef\u001b[0m \u001b[0m__init__\u001b[0m\u001b[0;34m(\u001b[0m\u001b[0mself\u001b[0m\u001b[0;34m,\u001b[0m \u001b[0mmod\u001b[0m\u001b[0;34m=\u001b[0m\u001b[0;34m'lasso'\u001b[0m\u001b[0;34m,\u001b[0m \u001b[0mrandom_state\u001b[0m\u001b[0;34m=\u001b[0m\u001b[0;36m42\u001b[0m\u001b[0;34m,\u001b[0m \u001b[0mtest_size\u001b[0m\u001b[0;34m=\u001b[0m\u001b[0;36m0.25\u001b[0m\u001b[0;34m,\u001b[0m \u001b[0malpha\u001b[0m\u001b[0;34m=\u001b[0m\u001b[0;36m0.5\u001b[0m\u001b[0;34m)\u001b[0m\u001b[0;34m:\u001b[0m\u001b[0;34m\u001b[0m\u001b[0;34m\u001b[0m\u001b[0m\n\u001b[1;32m      4\u001b[0m         \u001b[0msuper\u001b[0m\u001b[0;34m(\u001b[0m\u001b[0;34m)\u001b[0m\u001b[0;34m.\u001b[0m\u001b[0m__init__\u001b[0m\u001b[0;34m(\u001b[0m\u001b[0mmod\u001b[0m\u001b[0;34m,\u001b[0m \u001b[0mrandom_state\u001b[0m\u001b[0;34m,\u001b[0m \u001b[0mtest_size\u001b[0m\u001b[0;34m,\u001b[0m \u001b[0malpha\u001b[0m\u001b[0;34m)\u001b[0m\u001b[0;34m\u001b[0m\u001b[0;34m\u001b[0m\u001b[0m\n\u001b[0;32m----> 5\u001b[0;31m         \u001b[0mself\u001b[0m\u001b[0;34m.\u001b[0m\u001b[0mget_models\u001b[0m\u001b[0;34m(\u001b[0m\u001b[0;34m)\u001b[0m\u001b[0;34m\u001b[0m\u001b[0;34m\u001b[0m\u001b[0m\n\u001b[0m\u001b[1;32m      6\u001b[0m \u001b[0;34m\u001b[0m\u001b[0m\n\u001b[1;32m      7\u001b[0m         \u001b[0;31m# self.pillar_train, self.pillar_test = read_in_pillars(remove_star=True)\u001b[0m\u001b[0;34m\u001b[0m\u001b[0;34m\u001b[0m\u001b[0;34m\u001b[0m\u001b[0m\n",
      "\u001b[0;32m~/Documents/GitHub/DataHacks_2021/src/model_pillars.py\u001b[0m in \u001b[0;36mget_models\u001b[0;34m(self)\u001b[0m\n\u001b[1;32m    178\u001b[0m     \u001b[0;32mdef\u001b[0m \u001b[0mget_models\u001b[0m\u001b[0;34m(\u001b[0m\u001b[0mself\u001b[0m\u001b[0;34m)\u001b[0m\u001b[0;34m:\u001b[0m\u001b[0;34m\u001b[0m\u001b[0;34m\u001b[0m\u001b[0m\n\u001b[1;32m    179\u001b[0m         \u001b[0;32mfor\u001b[0m \u001b[0mpillar\u001b[0m \u001b[0;32min\u001b[0m \u001b[0mself\u001b[0m\u001b[0;34m.\u001b[0m\u001b[0mpillars\u001b[0m\u001b[0;34m:\u001b[0m\u001b[0;34m\u001b[0m\u001b[0;34m\u001b[0m\u001b[0m\n\u001b[0;32m--> 180\u001b[0;31m             \u001b[0mself\u001b[0m\u001b[0;34m.\u001b[0m\u001b[0mget_model\u001b[0m\u001b[0;34m(\u001b[0m\u001b[0mpillar\u001b[0m\u001b[0;34m)\u001b[0m\u001b[0;34m\u001b[0m\u001b[0;34m\u001b[0m\u001b[0m\n\u001b[0m\u001b[1;32m    181\u001b[0m         \u001b[0mprint\u001b[0m\u001b[0;34m(\u001b[0m\u001b[0;34m'Done, check self.models'\u001b[0m\u001b[0;34m)\u001b[0m\u001b[0;34m\u001b[0m\u001b[0;34m\u001b[0m\u001b[0m\n\u001b[1;32m    182\u001b[0m \u001b[0;34m\u001b[0m\u001b[0m\n",
      "\u001b[0;32m~/Documents/GitHub/DataHacks_2021/src/model_pillars.py\u001b[0m in \u001b[0;36mget_model\u001b[0;34m(self, pillar)\u001b[0m\n\u001b[1;32m    172\u001b[0m \u001b[0;34m\u001b[0m\u001b[0m\n\u001b[1;32m    173\u001b[0m         \u001b[0;31m# model and score of model\u001b[0m\u001b[0;34m\u001b[0m\u001b[0;34m\u001b[0m\u001b[0;34m\u001b[0m\u001b[0m\n\u001b[0;32m--> 174\u001b[0;31m         \u001b[0mscore\u001b[0m\u001b[0;34m,\u001b[0m \u001b[0mmodel\u001b[0m \u001b[0;34m=\u001b[0m \u001b[0meval\u001b[0m\u001b[0;34m(\u001b[0m\u001b[0;34m'self.'\u001b[0m\u001b[0;34m+\u001b[0m\u001b[0mself\u001b[0m\u001b[0;34m.\u001b[0m\u001b[0mmod_str\u001b[0m\u001b[0;34m)\u001b[0m\u001b[0;34m(\u001b[0m\u001b[0mpillar\u001b[0m\u001b[0;34m,\u001b[0m \u001b[0mX_train\u001b[0m\u001b[0;34m,\u001b[0m \u001b[0my_train\u001b[0m\u001b[0;34m,\u001b[0m \u001b[0mX_val\u001b[0m\u001b[0;34m,\u001b[0m \u001b[0my_val\u001b[0m\u001b[0;34m)\u001b[0m\u001b[0;34m\u001b[0m\u001b[0;34m\u001b[0m\u001b[0m\n\u001b[0m\u001b[1;32m    175\u001b[0m         \u001b[0;31m#^^utilize score???\u001b[0m\u001b[0;34m\u001b[0m\u001b[0;34m\u001b[0m\u001b[0;34m\u001b[0m\u001b[0m\n\u001b[1;32m    176\u001b[0m         \u001b[0;32mreturn\u001b[0m \u001b[0mmodel\u001b[0m\u001b[0;34m,\u001b[0m \u001b[0mX_train\u001b[0m\u001b[0;34m,\u001b[0m \u001b[0mX_val\u001b[0m\u001b[0;34m\u001b[0m\u001b[0;34m\u001b[0m\u001b[0m\n",
      "\u001b[0;32m~/Documents/GitHub/DataHacks_2021/src/model_pillars.py\u001b[0m in \u001b[0;36mensemble\u001b[0;34m(self, pillar, X_train, y_train, X_val, y_val)\u001b[0m\n\u001b[1;32m     46\u001b[0m             \u001b[0mscore\u001b[0m\u001b[0;34m,\u001b[0m \u001b[0mmodel\u001b[0m \u001b[0;34m=\u001b[0m \u001b[0meval\u001b[0m\u001b[0;34m(\u001b[0m\u001b[0;34m'self.'\u001b[0m\u001b[0;34m+\u001b[0m\u001b[0mmod\u001b[0m\u001b[0;34m)\u001b[0m\u001b[0;34m(\u001b[0m\u001b[0mpillar\u001b[0m\u001b[0;34m,\u001b[0m \u001b[0mX_train\u001b[0m\u001b[0;34m,\u001b[0m \u001b[0my_train\u001b[0m\u001b[0;34m,\u001b[0m \u001b[0mX_val\u001b[0m\u001b[0;34m,\u001b[0m \u001b[0my_val\u001b[0m\u001b[0;34m)\u001b[0m\u001b[0;34m\u001b[0m\u001b[0;34m\u001b[0m\u001b[0m\n\u001b[1;32m     47\u001b[0m             \u001b[0mmodel_dict\u001b[0m\u001b[0;34m[\u001b[0m\u001b[0mmod\u001b[0m\u001b[0;34m]\u001b[0m \u001b[0;34m=\u001b[0m \u001b[0;34m(\u001b[0m\u001b[0mscore\u001b[0m\u001b[0;34m,\u001b[0m \u001b[0mmodel\u001b[0m\u001b[0;34m)\u001b[0m\u001b[0;34m\u001b[0m\u001b[0;34m\u001b[0m\u001b[0m\n\u001b[0;32m---> 48\u001b[0;31m         \u001b[0mtop_score\u001b[0m\u001b[0;34m,\u001b[0m \u001b[0mtop_model\u001b[0m \u001b[0;34m=\u001b[0m \u001b[0msorted\u001b[0m\u001b[0;34m(\u001b[0m\u001b[0mmodel_dict\u001b[0m\u001b[0;34m.\u001b[0m\u001b[0mvalues\u001b[0m\u001b[0;34m(\u001b[0m\u001b[0;34m)\u001b[0m\u001b[0;34m)\u001b[0m\u001b[0;34m[\u001b[0m\u001b[0;34m-\u001b[0m\u001b[0;36m1\u001b[0m\u001b[0;34m]\u001b[0m\u001b[0;34m\u001b[0m\u001b[0;34m\u001b[0m\u001b[0m\n\u001b[0m\u001b[1;32m     49\u001b[0m         \u001b[0mself\u001b[0m\u001b[0;34m.\u001b[0m\u001b[0mmodels\u001b[0m\u001b[0;34m[\u001b[0m\u001b[0mpillar\u001b[0m\u001b[0;34m]\u001b[0m \u001b[0;34m=\u001b[0m \u001b[0mtop_model\u001b[0m\u001b[0;34m\u001b[0m\u001b[0;34m\u001b[0m\u001b[0m\n\u001b[1;32m     50\u001b[0m         \u001b[0;32mreturn\u001b[0m \u001b[0mtop_score\u001b[0m\u001b[0;34m,\u001b[0m \u001b[0mtop_model\u001b[0m\u001b[0;34m\u001b[0m\u001b[0;34m\u001b[0m\u001b[0m\n",
      "\u001b[0;31mTypeError\u001b[0m: '<' not supported between instances of 'ElasticNet' and 'Lasso'"
     ]
    }
   ],
   "source": [
    "pm = PredictionModel(mod='ensemble')"
   ]
  },
  {
   "cell_type": "code",
   "execution_count": 3,
   "id": "bridal-ambassador",
   "metadata": {},
   "outputs": [
    {
     "data": {
      "text/plain": [
       "{'busi': SVR(C=2),\n",
       " 'econ': SVR(C=2),\n",
       " 'educ': SVR(C=2, kernel='poly'),\n",
       " 'envi': SVR(C=2, kernel='poly'),\n",
       " 'gove': SVR(C=2),\n",
       " 'heal': SVR(C=2),\n",
       " 'pers': SVR(C=2),\n",
       " 'safe': SVR(C=2),\n",
       " 'soci': SVR(C=1)}"
      ]
     },
     "execution_count": 3,
     "metadata": {},
     "output_type": "execute_result"
    }
   ],
   "source": [
    "pm.models"
   ]
  },
  {
   "cell_type": "code",
   "execution_count": 6,
   "id": "hindu-origin",
   "metadata": {},
   "outputs": [
    {
     "data": {
      "text/html": [
       "<div>\n",
       "<style scoped>\n",
       "    .dataframe tbody tr th:only-of-type {\n",
       "        vertical-align: middle;\n",
       "    }\n",
       "\n",
       "    .dataframe tbody tr th {\n",
       "        vertical-align: top;\n",
       "    }\n",
       "\n",
       "    .dataframe thead th {\n",
       "        text-align: right;\n",
       "    }\n",
       "</style>\n",
       "<table border=\"1\" class=\"dataframe\">\n",
       "  <thead>\n",
       "    <tr style=\"text-align: right;\">\n",
       "      <th></th>\n",
       "      <th>country</th>\n",
       "      <th>isonum</th>\n",
       "      <th>isocode</th>\n",
       "      <th>year</th>\n",
       "      <th>busi_preds</th>\n",
       "      <th>econ_preds</th>\n",
       "      <th>educ_preds</th>\n",
       "      <th>envi_preds</th>\n",
       "      <th>gove_preds</th>\n",
       "      <th>heal_preds</th>\n",
       "      <th>pers_preds</th>\n",
       "      <th>safe_preds</th>\n",
       "      <th>soci_preds</th>\n",
       "      <th>prosperity_preds</th>\n",
       "      <th>prosperity_rank</th>\n",
       "    </tr>\n",
       "  </thead>\n",
       "  <tbody>\n",
       "    <tr>\n",
       "      <th>45</th>\n",
       "      <td>Finland</td>\n",
       "      <td>246</td>\n",
       "      <td>FIN</td>\n",
       "      <td>2015</td>\n",
       "      <td>71.397528</td>\n",
       "      <td>77.720968</td>\n",
       "      <td>79.762380</td>\n",
       "      <td>76.297217</td>\n",
       "      <td>84.181047</td>\n",
       "      <td>79.554857</td>\n",
       "      <td>85.003634</td>\n",
       "      <td>79.681392</td>\n",
       "      <td>52.519212</td>\n",
       "      <td>76.235360</td>\n",
       "      <td>1.0</td>\n",
       "    </tr>\n",
       "    <tr>\n",
       "      <th>106</th>\n",
       "      <td>New Zealand</td>\n",
       "      <td>554</td>\n",
       "      <td>NZL</td>\n",
       "      <td>2015</td>\n",
       "      <td>73.887605</td>\n",
       "      <td>78.342279</td>\n",
       "      <td>75.260965</td>\n",
       "      <td>71.101704</td>\n",
       "      <td>83.688766</td>\n",
       "      <td>78.713071</td>\n",
       "      <td>85.574997</td>\n",
       "      <td>80.328578</td>\n",
       "      <td>53.935149</td>\n",
       "      <td>75.648124</td>\n",
       "      <td>2.0</td>\n",
       "    </tr>\n",
       "    <tr>\n",
       "      <th>129</th>\n",
       "      <td>Sweden</td>\n",
       "      <td>752</td>\n",
       "      <td>SWE</td>\n",
       "      <td>2015</td>\n",
       "      <td>66.200196</td>\n",
       "      <td>78.519173</td>\n",
       "      <td>76.638887</td>\n",
       "      <td>72.379332</td>\n",
       "      <td>81.936344</td>\n",
       "      <td>81.309506</td>\n",
       "      <td>82.528264</td>\n",
       "      <td>81.931626</td>\n",
       "      <td>55.177248</td>\n",
       "      <td>75.180064</td>\n",
       "      <td>3.0</td>\n",
       "    </tr>\n",
       "    <tr>\n",
       "      <th>104</th>\n",
       "      <td>Norway</td>\n",
       "      <td>578</td>\n",
       "      <td>NOR</td>\n",
       "      <td>2015</td>\n",
       "      <td>68.626639</td>\n",
       "      <td>76.970422</td>\n",
       "      <td>75.704711</td>\n",
       "      <td>75.076663</td>\n",
       "      <td>82.388114</td>\n",
       "      <td>79.481516</td>\n",
       "      <td>82.040859</td>\n",
       "      <td>81.011776</td>\n",
       "      <td>54.114595</td>\n",
       "      <td>75.046144</td>\n",
       "      <td>4.0</td>\n",
       "    </tr>\n",
       "    <tr>\n",
       "      <th>37</th>\n",
       "      <td>Denmark</td>\n",
       "      <td>208</td>\n",
       "      <td>DNK</td>\n",
       "      <td>2015</td>\n",
       "      <td>68.040240</td>\n",
       "      <td>77.388167</td>\n",
       "      <td>76.284981</td>\n",
       "      <td>70.030103</td>\n",
       "      <td>84.338661</td>\n",
       "      <td>77.925251</td>\n",
       "      <td>82.562591</td>\n",
       "      <td>82.575592</td>\n",
       "      <td>55.188464</td>\n",
       "      <td>74.926005</td>\n",
       "      <td>5.0</td>\n",
       "    </tr>\n",
       "    <tr>\n",
       "      <th>...</th>\n",
       "      <td>...</td>\n",
       "      <td>...</td>\n",
       "      <td>...</td>\n",
       "      <td>...</td>\n",
       "      <td>...</td>\n",
       "      <td>...</td>\n",
       "      <td>...</td>\n",
       "      <td>...</td>\n",
       "      <td>...</td>\n",
       "      <td>...</td>\n",
       "      <td>...</td>\n",
       "      <td>...</td>\n",
       "      <td>...</td>\n",
       "      <td>...</td>\n",
       "      <td>...</td>\n",
       "    </tr>\n",
       "    <tr>\n",
       "      <th>280</th>\n",
       "      <td>Chad</td>\n",
       "      <td>148</td>\n",
       "      <td>TCD</td>\n",
       "      <td>2016</td>\n",
       "      <td>36.553936</td>\n",
       "      <td>47.951098</td>\n",
       "      <td>18.544930</td>\n",
       "      <td>53.981636</td>\n",
       "      <td>28.186317</td>\n",
       "      <td>46.696928</td>\n",
       "      <td>41.399560</td>\n",
       "      <td>59.559854</td>\n",
       "      <td>46.321334</td>\n",
       "      <td>42.132844</td>\n",
       "      <td>145.0</td>\n",
       "    </tr>\n",
       "    <tr>\n",
       "      <th>149</th>\n",
       "      <td>Afghanistan</td>\n",
       "      <td>4</td>\n",
       "      <td>AFG</td>\n",
       "      <td>2016</td>\n",
       "      <td>45.540062</td>\n",
       "      <td>51.637593</td>\n",
       "      <td>28.299295</td>\n",
       "      <td>41.424035</td>\n",
       "      <td>23.944236</td>\n",
       "      <td>56.980930</td>\n",
       "      <td>33.324011</td>\n",
       "      <td>41.373139</td>\n",
       "      <td>46.038637</td>\n",
       "      <td>40.951326</td>\n",
       "      <td>146.0</td>\n",
       "    </tr>\n",
       "    <tr>\n",
       "      <th>294</th>\n",
       "      <td>Yemen</td>\n",
       "      <td>887</td>\n",
       "      <td>YEM</td>\n",
       "      <td>2016</td>\n",
       "      <td>34.810393</td>\n",
       "      <td>43.315404</td>\n",
       "      <td>32.670549</td>\n",
       "      <td>42.857481</td>\n",
       "      <td>23.281868</td>\n",
       "      <td>62.227604</td>\n",
       "      <td>27.911463</td>\n",
       "      <td>51.890974</td>\n",
       "      <td>43.147392</td>\n",
       "      <td>40.234792</td>\n",
       "      <td>147.0</td>\n",
       "    </tr>\n",
       "    <tr>\n",
       "      <th>170</th>\n",
       "      <td>Central African Republic</td>\n",
       "      <td>140</td>\n",
       "      <td>CAF</td>\n",
       "      <td>2016</td>\n",
       "      <td>35.656168</td>\n",
       "      <td>46.091033</td>\n",
       "      <td>20.000410</td>\n",
       "      <td>58.612766</td>\n",
       "      <td>30.769338</td>\n",
       "      <td>48.999408</td>\n",
       "      <td>32.130787</td>\n",
       "      <td>39.724466</td>\n",
       "      <td>47.434456</td>\n",
       "      <td>39.935426</td>\n",
       "      <td>148.0</td>\n",
       "    </tr>\n",
       "    <tr>\n",
       "      <th>270</th>\n",
       "      <td>Sudan</td>\n",
       "      <td>729</td>\n",
       "      <td>SDN</td>\n",
       "      <td>2016</td>\n",
       "      <td>39.713486</td>\n",
       "      <td>46.141643</td>\n",
       "      <td>28.384488</td>\n",
       "      <td>43.905568</td>\n",
       "      <td>25.626340</td>\n",
       "      <td>58.968239</td>\n",
       "      <td>29.170592</td>\n",
       "      <td>41.570076</td>\n",
       "      <td>45.098861</td>\n",
       "      <td>39.842144</td>\n",
       "      <td>149.0</td>\n",
       "    </tr>\n",
       "  </tbody>\n",
       "</table>\n",
       "<p>298 rows × 15 columns</p>\n",
       "</div>"
      ],
      "text/plain": [
       "                      country  isonum isocode  year  busi_preds  econ_preds  \\\n",
       "45                    Finland     246     FIN  2015   71.397528   77.720968   \n",
       "106               New Zealand     554     NZL  2015   73.887605   78.342279   \n",
       "129                    Sweden     752     SWE  2015   66.200196   78.519173   \n",
       "104                    Norway     578     NOR  2015   68.626639   76.970422   \n",
       "37                    Denmark     208     DNK  2015   68.040240   77.388167   \n",
       "..                        ...     ...     ...   ...         ...         ...   \n",
       "280                      Chad     148     TCD  2016   36.553936   47.951098   \n",
       "149               Afghanistan       4     AFG  2016   45.540062   51.637593   \n",
       "294                     Yemen     887     YEM  2016   34.810393   43.315404   \n",
       "170  Central African Republic     140     CAF  2016   35.656168   46.091033   \n",
       "270                     Sudan     729     SDN  2016   39.713486   46.141643   \n",
       "\n",
       "     educ_preds  envi_preds  gove_preds  heal_preds  pers_preds  safe_preds  \\\n",
       "45    79.762380   76.297217   84.181047   79.554857   85.003634   79.681392   \n",
       "106   75.260965   71.101704   83.688766   78.713071   85.574997   80.328578   \n",
       "129   76.638887   72.379332   81.936344   81.309506   82.528264   81.931626   \n",
       "104   75.704711   75.076663   82.388114   79.481516   82.040859   81.011776   \n",
       "37    76.284981   70.030103   84.338661   77.925251   82.562591   82.575592   \n",
       "..          ...         ...         ...         ...         ...         ...   \n",
       "280   18.544930   53.981636   28.186317   46.696928   41.399560   59.559854   \n",
       "149   28.299295   41.424035   23.944236   56.980930   33.324011   41.373139   \n",
       "294   32.670549   42.857481   23.281868   62.227604   27.911463   51.890974   \n",
       "170   20.000410   58.612766   30.769338   48.999408   32.130787   39.724466   \n",
       "270   28.384488   43.905568   25.626340   58.968239   29.170592   41.570076   \n",
       "\n",
       "     soci_preds  prosperity_preds  prosperity_rank  \n",
       "45    52.519212         76.235360              1.0  \n",
       "106   53.935149         75.648124              2.0  \n",
       "129   55.177248         75.180064              3.0  \n",
       "104   54.114595         75.046144              4.0  \n",
       "37    55.188464         74.926005              5.0  \n",
       "..          ...               ...              ...  \n",
       "280   46.321334         42.132844            145.0  \n",
       "149   46.038637         40.951326            146.0  \n",
       "294   43.147392         40.234792            147.0  \n",
       "170   47.434456         39.935426            148.0  \n",
       "270   45.098861         39.842144            149.0  \n",
       "\n",
       "[298 rows x 15 columns]"
      ]
     },
     "execution_count": 6,
     "metadata": {},
     "output_type": "execute_result"
    }
   ],
   "source": [
    "country_ranks"
   ]
  },
  {
   "cell_type": "code",
   "execution_count": 11,
   "id": "executed-lighter",
   "metadata": {},
   "outputs": [
    {
     "name": "stdout",
     "output_type": "stream",
     "text": [
      "Score for lasso model for busi: 0.9640894528715165\n",
      "Score for lasso model for econ: 0.9673398935345666\n",
      "Score for lasso model for educ: 0.9738900875372893\n",
      "Score for lasso model for envi: 0.8693442106982423\n",
      "Score for lasso model for gove: 0.9778814627503908\n",
      "Score for lasso model for heal: 0.9589534348421597\n",
      "Score for lasso model for pers: 0.9329055841669284\n",
      "Score for lasso model for safe: 0.9006421526752098\n",
      "Score for lasso model for soci: 0.20461751867896283\n"
     ]
    },
    {
     "name": "stderr",
     "output_type": "stream",
     "text": [
      "\n",
      "A value is trying to be set on a copy of a slice from a DataFrame.\n",
      "Try using .loc[row_indexer,col_indexer] = value instead\n",
      "\n",
      "See the caveats in the documentation: https://pandas.pydata.org/pandas-docs/stable/user_guide/indexing.html#returning-a-view-versus-a-copy\n",
      "\n",
      "A value is trying to be set on a copy of a slice from a DataFrame.\n",
      "Try using .loc[row_indexer,col_indexer] = value instead\n",
      "\n",
      "See the caveats in the documentation: https://pandas.pydata.org/pandas-docs/stable/user_guide/indexing.html#returning-a-view-versus-a-copy\n"
     ]
    }
   ],
   "source": [
    "country_ranks = pm.determine_ranks()[['country', 'year','prosperity_rank']]"
   ]
  },
  {
   "cell_type": "code",
   "execution_count": 12,
   "id": "pending-breach",
   "metadata": {},
   "outputs": [],
   "source": [
    "country_ranks.to_csv('country_ranks.csv', index=False)"
   ]
  },
  {
   "cell_type": "code",
   "execution_count": 7,
   "id": "flexible-father",
   "metadata": {},
   "outputs": [
    {
     "data": {
      "text/plain": [
       "dict_keys(['busi', 'econ', 'educ', 'envi', 'gove', 'heal', 'pers', 'safe', 'soci'])"
      ]
     },
     "execution_count": 7,
     "metadata": {},
     "output_type": "execute_result"
    }
   ],
   "source": [
    "pe.pillar_train.keys()"
   ]
  },
  {
   "cell_type": "code",
   "execution_count": null,
   "id": "skilled-collective",
   "metadata": {},
   "outputs": [],
   "source": []
  }
 ],
 "metadata": {
  "kernelspec": {
   "display_name": "Python 3",
   "language": "python",
   "name": "python3"
  },
  "language_info": {
   "codemirror_mode": {
    "name": "ipython",
    "version": 3
   },
   "file_extension": ".py",
   "mimetype": "text/x-python",
   "name": "python",
   "nbconvert_exporter": "python",
   "pygments_lexer": "ipython3",
   "version": "3.8.2"
  }
 },
 "nbformat": 4,
 "nbformat_minor": 5
}
