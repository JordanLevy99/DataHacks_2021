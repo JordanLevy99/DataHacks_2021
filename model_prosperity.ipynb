{
 "cells": [
  {
   "cell_type": "code",
   "execution_count": 1,
   "id": "damaged-tokyo",
   "metadata": {},
   "outputs": [
    {
     "ename": "IndentationError",
     "evalue": "unindent does not match any outer indentation level (etl.py, line 35)",
     "output_type": "error",
     "traceback": [
      "Traceback \u001b[0;36m(most recent call last)\u001b[0m:\n",
      "  File \u001b[1;32m\"/home/jdlevy/anaconda3/envs/py38/lib/python3.8/site-packages/IPython/core/interactiveshell.py\"\u001b[0m, line \u001b[1;32m3427\u001b[0m, in \u001b[1;35mrun_code\u001b[0m\n    exec(code_obj, self.user_global_ns, self.user_ns)\n",
      "  File \u001b[1;32m\"<ipython-input-1-73cd6a499dbc>\"\u001b[0m, line \u001b[1;32m1\u001b[0m, in \u001b[1;35m<module>\u001b[0m\n    from src.model_pillars import *\n",
      "\u001b[0;36m  File \u001b[0;32m\"/home/jdlevy/Documents/GitHub/DataHacks-2021/Intermediate Track 2 (Prosperity)/src/model_pillars.py\"\u001b[0;36m, line \u001b[0;32m8\u001b[0;36m, in \u001b[0;35m<module>\u001b[0;36m\u001b[0m\n\u001b[0;31m    from src.etl import *\u001b[0m\n",
      "\u001b[0;36m  File \u001b[0;32m\"/home/jdlevy/Documents/GitHub/DataHacks-2021/Intermediate Track 2 (Prosperity)/src/etl.py\"\u001b[0;36m, line \u001b[0;32m35\u001b[0m\n\u001b[0;31m    def get_prosperity_scores():\u001b[0m\n\u001b[0m                                ^\u001b[0m\n\u001b[0;31mIndentationError\u001b[0m\u001b[0;31m:\u001b[0m unindent does not match any outer indentation level\n"
     ]
    }
   ],
   "source": [
    "from src.model_pillars import *"
   ]
  },
  {
   "cell_type": "code",
   "execution_count": null,
   "id": "olive-roulette",
   "metadata": {},
   "outputs": [],
   "source": [
    "pe = PillarExplainer()"
   ]
  },
  {
   "cell_type": "code",
   "execution_count": null,
   "id": "other-ready",
   "metadata": {},
   "outputs": [],
   "source": [
    "pe.get_impt_cat('busi')"
   ]
  },
  {
   "cell_type": "code",
   "execution_count": 4,
   "id": "ignored-chuck",
   "metadata": {},
   "outputs": [
    {
     "data": {
      "text/plain": [
       "{'busi': Lasso(alpha=0.5),\n",
       " 'econ': Lasso(alpha=0.5),\n",
       " 'educ': Lasso(alpha=0.5),\n",
       " 'envi': Lasso(alpha=0.5),\n",
       " 'gove': Lasso(alpha=0.5),\n",
       " 'heal': Lasso(alpha=0.5),\n",
       " 'pers': Lasso(alpha=0.5),\n",
       " 'safe': Lasso(alpha=0.5),\n",
       " 'soci': Lasso(alpha=0.5)}"
      ]
     },
     "execution_count": 4,
     "metadata": {},
     "output_type": "execute_result"
    }
   ],
   "source": [
    "pe.models"
   ]
  },
  {
   "cell_type": "code",
   "execution_count": 7,
   "id": "flexible-father",
   "metadata": {},
   "outputs": [
    {
     "data": {
      "text/plain": [
       "dict_keys(['busi', 'econ', 'educ', 'envi', 'gove', 'heal', 'pers', 'safe', 'soci'])"
      ]
     },
     "execution_count": 7,
     "metadata": {},
     "output_type": "execute_result"
    }
   ],
   "source": [
    "pe.pillar_train.keys()"
   ]
  },
  {
   "cell_type": "code",
   "execution_count": null,
   "id": "skilled-collective",
   "metadata": {},
   "outputs": [],
   "source": []
  }
 ],
 "metadata": {
  "kernelspec": {
   "display_name": "Python 3",
   "language": "python",
   "name": "python3"
  },
  "language_info": {
   "codemirror_mode": {
    "name": "ipython",
    "version": 3
   },
   "file_extension": ".py",
   "mimetype": "text/x-python",
   "name": "python",
   "nbconvert_exporter": "python",
   "pygments_lexer": "ipython3",
   "version": "3.8.2"
  }
 },
 "nbformat": 4,
 "nbformat_minor": 5
}
