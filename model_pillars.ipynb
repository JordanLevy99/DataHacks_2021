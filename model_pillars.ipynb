{
 "cells": [
  {
   "cell_type": "code",
   "execution_count": 89,
   "id": "otherwise-thomson",
   "metadata": {},
   "outputs": [],
   "source": [
    "from sklearn.linear_model import ElasticNet\n",
    "import statsmodels.api as sm\n",
    "from src.etl import *\n",
    "from sklearn.model_selection import train_test_split\n",
    "import shap"
   ]
  },
  {
   "cell_type": "code",
   "execution_count": 3,
   "id": "willing-stanley",
   "metadata": {},
   "outputs": [
    {
     "data": {
      "text/html": [
       "<div>\n",
       "<style scoped>\n",
       "    .dataframe tbody tr th:only-of-type {\n",
       "        vertical-align: middle;\n",
       "    }\n",
       "\n",
       "    .dataframe tbody tr th {\n",
       "        vertical-align: top;\n",
       "    }\n",
       "\n",
       "    .dataframe thead th {\n",
       "        text-align: right;\n",
       "    }\n",
       "</style>\n",
       "<table border=\"1\" class=\"dataframe\">\n",
       "  <thead>\n",
       "    <tr style=\"text-align: right;\">\n",
       "      <th></th>\n",
       "      <th>country</th>\n",
       "      <th>isonum</th>\n",
       "      <th>isocode</th>\n",
       "      <th>year</th>\n",
       "      <th>busi</th>\n",
       "      <th>econ</th>\n",
       "      <th>educ</th>\n",
       "      <th>envi</th>\n",
       "      <th>gove</th>\n",
       "      <th>heal</th>\n",
       "      <th>pers</th>\n",
       "      <th>safe</th>\n",
       "      <th>soci</th>\n",
       "      <th>prosperity</th>\n",
       "    </tr>\n",
       "  </thead>\n",
       "  <tbody>\n",
       "    <tr>\n",
       "      <th>0</th>\n",
       "      <td>Afghanistan</td>\n",
       "      <td>4</td>\n",
       "      <td>AFG</td>\n",
       "      <td>2007</td>\n",
       "      <td>35.308167</td>\n",
       "      <td>53.251713</td>\n",
       "      <td>22.494400</td>\n",
       "      <td>39.293343</td>\n",
       "      <td>29.760307</td>\n",
       "      <td>51.600807</td>\n",
       "      <td>32.290104</td>\n",
       "      <td>37.240280</td>\n",
       "      <td>37.691658</td>\n",
       "      <td>37.658975</td>\n",
       "    </tr>\n",
       "    <tr>\n",
       "      <th>1</th>\n",
       "      <td>Angola</td>\n",
       "      <td>24</td>\n",
       "      <td>AGO</td>\n",
       "      <td>2007</td>\n",
       "      <td>27.057371</td>\n",
       "      <td>51.743580</td>\n",
       "      <td>35.916668</td>\n",
       "      <td>47.982162</td>\n",
       "      <td>30.910105</td>\n",
       "      <td>57.914005</td>\n",
       "      <td>45.123459</td>\n",
       "      <td>53.325123</td>\n",
       "      <td>44.954544</td>\n",
       "      <td>43.880780</td>\n",
       "    </tr>\n",
       "    <tr>\n",
       "      <th>2</th>\n",
       "      <td>Albania</td>\n",
       "      <td>8</td>\n",
       "      <td>ALB</td>\n",
       "      <td>2007</td>\n",
       "      <td>40.626377</td>\n",
       "      <td>57.979511</td>\n",
       "      <td>56.318413</td>\n",
       "      <td>51.049442</td>\n",
       "      <td>42.531654</td>\n",
       "      <td>74.527748</td>\n",
       "      <td>60.275913</td>\n",
       "      <td>68.989883</td>\n",
       "      <td>41.740612</td>\n",
       "      <td>54.893284</td>\n",
       "    </tr>\n",
       "    <tr>\n",
       "      <th>3</th>\n",
       "      <td>United Arab Emirates</td>\n",
       "      <td>784</td>\n",
       "      <td>ARE</td>\n",
       "      <td>2007</td>\n",
       "      <td>52.791740</td>\n",
       "      <td>67.167816</td>\n",
       "      <td>59.942955</td>\n",
       "      <td>62.051479</td>\n",
       "      <td>48.831993</td>\n",
       "      <td>77.575127</td>\n",
       "      <td>49.087570</td>\n",
       "      <td>80.370224</td>\n",
       "      <td>52.181824</td>\n",
       "      <td>61.111192</td>\n",
       "    </tr>\n",
       "    <tr>\n",
       "      <th>4</th>\n",
       "      <td>Argentina</td>\n",
       "      <td>32</td>\n",
       "      <td>ARG</td>\n",
       "      <td>2007</td>\n",
       "      <td>47.438419</td>\n",
       "      <td>62.476505</td>\n",
       "      <td>51.995552</td>\n",
       "      <td>64.909729</td>\n",
       "      <td>45.032742</td>\n",
       "      <td>74.439102</td>\n",
       "      <td>63.805622</td>\n",
       "      <td>68.519714</td>\n",
       "      <td>48.400772</td>\n",
       "      <td>58.557573</td>\n",
       "    </tr>\n",
       "  </tbody>\n",
       "</table>\n",
       "</div>"
      ],
      "text/plain": [
       "                country  isonum isocode  year       busi       econ  \\\n",
       "0           Afghanistan       4     AFG  2007  35.308167  53.251713   \n",
       "1                Angola      24     AGO  2007  27.057371  51.743580   \n",
       "2               Albania       8     ALB  2007  40.626377  57.979511   \n",
       "3  United Arab Emirates     784     ARE  2007  52.791740  67.167816   \n",
       "4             Argentina      32     ARG  2007  47.438419  62.476505   \n",
       "\n",
       "        educ       envi       gove       heal       pers       safe  \\\n",
       "0  22.494400  39.293343  29.760307  51.600807  32.290104  37.240280   \n",
       "1  35.916668  47.982162  30.910105  57.914005  45.123459  53.325123   \n",
       "2  56.318413  51.049442  42.531654  74.527748  60.275913  68.989883   \n",
       "3  59.942955  62.051479  48.831993  77.575127  49.087570  80.370224   \n",
       "4  51.995552  64.909729  45.032742  74.439102  63.805622  68.519714   \n",
       "\n",
       "        soci  prosperity  \n",
       "0  37.691658   37.658975  \n",
       "1  44.954544   43.880780  \n",
       "2  41.740612   54.893284  \n",
       "3  52.181824   61.111192  \n",
       "4  48.400772   58.557573  "
      ]
     },
     "execution_count": 3,
     "metadata": {},
     "output_type": "execute_result"
    }
   ],
   "source": [
    "prosperity_data = get_prosperity_scores()\n",
    "prosperity_data.head()"
   ]
  },
  {
   "cell_type": "code",
   "execution_count": 27,
   "id": "floating-traffic",
   "metadata": {},
   "outputs": [],
   "source": [
    "pillar_train, pillar_test = read_in_pillars()\n",
    "pillar_train = remove_null_columns(pillar_train)\n",
    "pillar_test = remove_null_columns(pillar_test)"
   ]
  },
  {
   "cell_type": "code",
   "execution_count": 28,
   "id": "fitting-castle",
   "metadata": {},
   "outputs": [],
   "source": [
    "def remove_null_columns(data):\n",
    "    return {key: data[key].loc[:, ~(data[key].loc[0].apply(lambda x: '***' in str(x)))] for key in data}"
   ]
  },
  {
   "cell_type": "code",
   "execution_count": 56,
   "id": "regulated-saver",
   "metadata": {},
   "outputs": [
    {
     "data": {
      "text/html": [
       "<div>\n",
       "<style scoped>\n",
       "    .dataframe tbody tr th:only-of-type {\n",
       "        vertical-align: middle;\n",
       "    }\n",
       "\n",
       "    .dataframe tbody tr th {\n",
       "        vertical-align: top;\n",
       "    }\n",
       "\n",
       "    .dataframe thead th {\n",
       "        text-align: right;\n",
       "    }\n",
       "</style>\n",
       "<table border=\"1\" class=\"dataframe\">\n",
       "  <thead>\n",
       "    <tr style=\"text-align: right;\">\n",
       "      <th></th>\n",
       "      <th>Unnamed: 0</th>\n",
       "      <th>country</th>\n",
       "      <th>isonum</th>\n",
       "      <th>isocode</th>\n",
       "      <th>year</th>\n",
       "      <th>rank_soci</th>\n",
       "      <th>soci</th>\n",
       "      <th>strange_year</th>\n",
       "      <th>polic_year</th>\n",
       "      <th>respect_year</th>\n",
       "      <th>friends_year</th>\n",
       "      <th>voice_year</th>\n",
       "      <th>vtf</th>\n",
       "      <th>vtf_year</th>\n",
       "      <th>finhelp_year</th>\n",
       "      <th>volunt_year</th>\n",
       "      <th>help_year</th>\n",
       "      <th>donate_year</th>\n",
       "    </tr>\n",
       "  </thead>\n",
       "  <tbody>\n",
       "    <tr>\n",
       "      <th>0</th>\n",
       "      <td>0</td>\n",
       "      <td>Afghanistan</td>\n",
       "      <td>4</td>\n",
       "      <td>AFG</td>\n",
       "      <td>2007</td>\n",
       "      <td>144</td>\n",
       "      <td>37.691658</td>\n",
       "      <td>2008</td>\n",
       "      <td>2008</td>\n",
       "      <td>2008</td>\n",
       "      <td>2010</td>\n",
       "      <td>2008</td>\n",
       "      <td>22.216499</td>\n",
       "      <td>2007</td>\n",
       "      <td>2011</td>\n",
       "      <td>2008</td>\n",
       "      <td>2008</td>\n",
       "      <td>2008</td>\n",
       "    </tr>\n",
       "    <tr>\n",
       "      <th>1</th>\n",
       "      <td>1</td>\n",
       "      <td>Angola</td>\n",
       "      <td>24</td>\n",
       "      <td>AGO</td>\n",
       "      <td>2007</td>\n",
       "      <td>107</td>\n",
       "      <td>44.954544</td>\n",
       "      <td>2011</td>\n",
       "      <td>2011</td>\n",
       "      <td>2011</td>\n",
       "      <td>2011</td>\n",
       "      <td>2012</td>\n",
       "      <td>0.000000</td>\n",
       "      <td>2007</td>\n",
       "      <td>2012</td>\n",
       "      <td>2011</td>\n",
       "      <td>2011</td>\n",
       "      <td>2011</td>\n",
       "    </tr>\n",
       "    <tr>\n",
       "      <th>2</th>\n",
       "      <td>2</td>\n",
       "      <td>Albania</td>\n",
       "      <td>8</td>\n",
       "      <td>ALB</td>\n",
       "      <td>2007</td>\n",
       "      <td>124</td>\n",
       "      <td>41.740612</td>\n",
       "      <td>2009</td>\n",
       "      <td>2009</td>\n",
       "      <td>2009</td>\n",
       "      <td>2012</td>\n",
       "      <td>2012</td>\n",
       "      <td>46.293499</td>\n",
       "      <td>2007</td>\n",
       "      <td>2012</td>\n",
       "      <td>2009</td>\n",
       "      <td>2009</td>\n",
       "      <td>2009</td>\n",
       "    </tr>\n",
       "    <tr>\n",
       "      <th>3</th>\n",
       "      <td>3</td>\n",
       "      <td>United Arab Emirates</td>\n",
       "      <td>784</td>\n",
       "      <td>ARE</td>\n",
       "      <td>2007</td>\n",
       "      <td>51</td>\n",
       "      <td>52.181824</td>\n",
       "      <td>2009</td>\n",
       "      <td>--</td>\n",
       "      <td>2009</td>\n",
       "      <td>2010</td>\n",
       "      <td>2010</td>\n",
       "      <td>0.000000</td>\n",
       "      <td>2007</td>\n",
       "      <td>2012</td>\n",
       "      <td>2009</td>\n",
       "      <td>2009</td>\n",
       "      <td>2009</td>\n",
       "    </tr>\n",
       "    <tr>\n",
       "      <th>4</th>\n",
       "      <td>4</td>\n",
       "      <td>Argentina</td>\n",
       "      <td>32</td>\n",
       "      <td>ARG</td>\n",
       "      <td>2007</td>\n",
       "      <td>78</td>\n",
       "      <td>48.400772</td>\n",
       "      <td>2007</td>\n",
       "      <td>2007</td>\n",
       "      <td>2007</td>\n",
       "      <td>2010</td>\n",
       "      <td>2007</td>\n",
       "      <td>65.816994</td>\n",
       "      <td>2007</td>\n",
       "      <td>2012</td>\n",
       "      <td>2007</td>\n",
       "      <td>2007</td>\n",
       "      <td>2007</td>\n",
       "    </tr>\n",
       "    <tr>\n",
       "      <th>...</th>\n",
       "      <td>...</td>\n",
       "      <td>...</td>\n",
       "      <td>...</td>\n",
       "      <td>...</td>\n",
       "      <td>...</td>\n",
       "      <td>...</td>\n",
       "      <td>...</td>\n",
       "      <td>...</td>\n",
       "      <td>...</td>\n",
       "      <td>...</td>\n",
       "      <td>...</td>\n",
       "      <td>...</td>\n",
       "      <td>...</td>\n",
       "      <td>...</td>\n",
       "      <td>...</td>\n",
       "      <td>...</td>\n",
       "      <td>...</td>\n",
       "      <td>...</td>\n",
       "    </tr>\n",
       "    <tr>\n",
       "      <th>1187</th>\n",
       "      <td>1187</td>\n",
       "      <td>Vietnam</td>\n",
       "      <td>704</td>\n",
       "      <td>VNM</td>\n",
       "      <td>2014</td>\n",
       "      <td>73</td>\n",
       "      <td>49.223934</td>\n",
       "      <td>2014</td>\n",
       "      <td>2013</td>\n",
       "      <td>2014</td>\n",
       "      <td>2014</td>\n",
       "      <td>2013</td>\n",
       "      <td>14.926501</td>\n",
       "      <td>2014</td>\n",
       "      <td>2014</td>\n",
       "      <td>2014</td>\n",
       "      <td>2014</td>\n",
       "      <td>2014</td>\n",
       "    </tr>\n",
       "    <tr>\n",
       "      <th>1188</th>\n",
       "      <td>1188</td>\n",
       "      <td>Yemen</td>\n",
       "      <td>887</td>\n",
       "      <td>YEM</td>\n",
       "      <td>2014</td>\n",
       "      <td>149</td>\n",
       "      <td>34.863636</td>\n",
       "      <td>2014</td>\n",
       "      <td>2014</td>\n",
       "      <td>2014</td>\n",
       "      <td>2014</td>\n",
       "      <td>2013</td>\n",
       "      <td>0.000000</td>\n",
       "      <td>2014</td>\n",
       "      <td>2014</td>\n",
       "      <td>2014</td>\n",
       "      <td>2014</td>\n",
       "      <td>2014</td>\n",
       "    </tr>\n",
       "    <tr>\n",
       "      <th>1189</th>\n",
       "      <td>1189</td>\n",
       "      <td>South Africa</td>\n",
       "      <td>710</td>\n",
       "      <td>ZAF</td>\n",
       "      <td>2014</td>\n",
       "      <td>30</td>\n",
       "      <td>57.354820</td>\n",
       "      <td>2014</td>\n",
       "      <td>2014</td>\n",
       "      <td>2014</td>\n",
       "      <td>2014</td>\n",
       "      <td>2013</td>\n",
       "      <td>69.806000</td>\n",
       "      <td>2014</td>\n",
       "      <td>2014</td>\n",
       "      <td>2014</td>\n",
       "      <td>2014</td>\n",
       "      <td>2014</td>\n",
       "    </tr>\n",
       "    <tr>\n",
       "      <th>1190</th>\n",
       "      <td>1190</td>\n",
       "      <td>Zambia</td>\n",
       "      <td>894</td>\n",
       "      <td>ZMB</td>\n",
       "      <td>2014</td>\n",
       "      <td>66</td>\n",
       "      <td>50.936478</td>\n",
       "      <td>2014</td>\n",
       "      <td>2014</td>\n",
       "      <td>2014</td>\n",
       "      <td>2014</td>\n",
       "      <td>2013</td>\n",
       "      <td>45.602501</td>\n",
       "      <td>2014</td>\n",
       "      <td>2014</td>\n",
       "      <td>2014</td>\n",
       "      <td>2014</td>\n",
       "      <td>2014</td>\n",
       "    </tr>\n",
       "    <tr>\n",
       "      <th>1191</th>\n",
       "      <td>1191</td>\n",
       "      <td>Zimbabwe</td>\n",
       "      <td>716</td>\n",
       "      <td>ZWE</td>\n",
       "      <td>2014</td>\n",
       "      <td>86</td>\n",
       "      <td>47.798504</td>\n",
       "      <td>2014</td>\n",
       "      <td>2014</td>\n",
       "      <td>2014</td>\n",
       "      <td>2014</td>\n",
       "      <td>2013</td>\n",
       "      <td>28.567001</td>\n",
       "      <td>2014</td>\n",
       "      <td>2014</td>\n",
       "      <td>2014</td>\n",
       "      <td>2014</td>\n",
       "      <td>2014</td>\n",
       "    </tr>\n",
       "  </tbody>\n",
       "</table>\n",
       "<p>1192 rows × 18 columns</p>\n",
       "</div>"
      ],
      "text/plain": [
       "      Unnamed: 0               country  isonum isocode  year  rank_soci  \\\n",
       "0              0           Afghanistan       4     AFG  2007        144   \n",
       "1              1                Angola      24     AGO  2007        107   \n",
       "2              2               Albania       8     ALB  2007        124   \n",
       "3              3  United Arab Emirates     784     ARE  2007         51   \n",
       "4              4             Argentina      32     ARG  2007         78   \n",
       "...          ...                   ...     ...     ...   ...        ...   \n",
       "1187        1187               Vietnam     704     VNM  2014         73   \n",
       "1188        1188                 Yemen     887     YEM  2014        149   \n",
       "1189        1189          South Africa     710     ZAF  2014         30   \n",
       "1190        1190                Zambia     894     ZMB  2014         66   \n",
       "1191        1191              Zimbabwe     716     ZWE  2014         86   \n",
       "\n",
       "           soci  strange_year polic_year  respect_year friends_year  \\\n",
       "0     37.691658          2008       2008          2008         2010   \n",
       "1     44.954544          2011       2011          2011         2011   \n",
       "2     41.740612          2009       2009          2009         2012   \n",
       "3     52.181824          2009         --          2009         2010   \n",
       "4     48.400772          2007       2007          2007         2010   \n",
       "...         ...           ...        ...           ...          ...   \n",
       "1187  49.223934          2014       2013          2014         2014   \n",
       "1188  34.863636          2014       2014          2014         2014   \n",
       "1189  57.354820          2014       2014          2014         2014   \n",
       "1190  50.936478          2014       2014          2014         2014   \n",
       "1191  47.798504          2014       2014          2014         2014   \n",
       "\n",
       "     voice_year        vtf  vtf_year finhelp_year  volunt_year help_year  \\\n",
       "0          2008  22.216499      2007         2011         2008      2008   \n",
       "1          2012   0.000000      2007         2012         2011      2011   \n",
       "2          2012  46.293499      2007         2012         2009      2009   \n",
       "3          2010   0.000000      2007         2012         2009      2009   \n",
       "4          2007  65.816994      2007         2012         2007      2007   \n",
       "...         ...        ...       ...          ...          ...       ...   \n",
       "1187       2013  14.926501      2014         2014         2014      2014   \n",
       "1188       2013   0.000000      2014         2014         2014      2014   \n",
       "1189       2013  69.806000      2014         2014         2014      2014   \n",
       "1190       2013  45.602501      2014         2014         2014      2014   \n",
       "1191       2013  28.567001      2014         2014         2014      2014   \n",
       "\n",
       "      donate_year  \n",
       "0            2008  \n",
       "1            2011  \n",
       "2            2009  \n",
       "3            2009  \n",
       "4            2007  \n",
       "...           ...  \n",
       "1187         2014  \n",
       "1188         2014  \n",
       "1189         2014  \n",
       "1190         2014  \n",
       "1191         2014  \n",
       "\n",
       "[1192 rows x 18 columns]"
      ]
     },
     "execution_count": 56,
     "metadata": {},
     "output_type": "execute_result"
    }
   ],
   "source": [
    "pillar_train['soci']"
   ]
  },
  {
   "cell_type": "code",
   "execution_count": 84,
   "id": "closed-program",
   "metadata": {},
   "outputs": [],
   "source": [
    "def get_train_test(pillar, random_state=42, test_size=0.3):\n",
    "#     random_state = 42\n",
    "    filt_data = pillar_train[pillar].loc[:, ~((pillar_train[pillar].columns.str.contains('year')) | (pillar_train[pillar].columns == pillar))]\n",
    "    X = filt_data[filt_data.columns[5:]]\n",
    "    y = pillar_train[pillar][pillar]\n",
    "    \n",
    "    X_train, X_test, y_train, y_test = train_test_split(X, y, random_state=random_state, test_size=test_size)\n",
    "    return X_train, X_test, y_train, y_test"
   ]
  },
  {
   "cell_type": "code",
   "execution_count": 85,
   "id": "decimal-howard",
   "metadata": {},
   "outputs": [],
   "source": [
    "def elastic(X_train, y_train, X_test, y_test):\n",
    "    en = ElasticNet()\n",
    "    en.fit(X_train, y_train)\n",
    "    \n",
    "    score = en.score(X_test, y_test)\n",
    "    print(f'Model score is {score} on test data')\n",
    "    \n",
    "    # consider adding y_pred here\n",
    "    \n",
    "    \n",
    "    return score, en"
   ]
  },
  {
   "cell_type": "code",
   "execution_count": 86,
   "id": "standing-television",
   "metadata": {},
   "outputs": [],
   "source": [
    "def get_SHAP_viz(model, X_train, X_test):\n",
    "    \"\"\"\n",
    "    Returns bar plot of each categories impact on pillar score\n",
    "    ----\n",
    "    \n",
    "    Used in get_impt_cat()\n",
    "    \"\"\"\n",
    "    # ***use X_test or X_train?\n",
    "    explainer = shap.LinearExplainer(model, X_train, feature_dependence=\"independent\")\n",
    "    shap_values = explainer.shap_values(X_test)\n",
    "    \n",
    "    shap.summary_plot(shap_values, X_test, plot_type=\"bar\")"
   ]
  },
  {
   "cell_type": "code",
   "execution_count": 88,
   "id": "powered-custom",
   "metadata": {},
   "outputs": [
    {
     "name": "stdout",
     "output_type": "stream",
     "text": [
      "busi\n",
      "Model score is 0.9471879249807428 on test data\n"
     ]
    },
    {
     "name": "stderr",
     "output_type": "stream",
     "text": [
      "The option feature_dependence has been renamed to feature_perturbation!\n",
      "The option feature_perturbation=\"independent\" is has been renamed to feature_perturbation=\"interventional\"!\n",
      "The feature_perturbation option is now deprecated in favor of using the appropriate masker (maskers.Independent, or maskers.Impute)\n"
     ]
    },
    {
     "data": {
      "image/png": "[encoded data removed]",
      "text/plain": [
       "<Figure size 576x396 with 1 Axes>"
      ]
     },
     "metadata": {
      "needs_background": "light"
     },
     "output_type": "display_data"
    },
    {
     "name": "stdout",
     "output_type": "stream",
     "text": [
      "econ\n",
      "Model score is 0.9539045280875225 on test data\n"
     ]
    },
    {
     "name": "stderr",
     "output_type": "stream",
     "text": [
      "The option feature_dependence has been renamed to feature_perturbation!\n",
      "The option feature_perturbation=\"independent\" is has been renamed to feature_perturbation=\"interventional\"!\n",
      "The feature_perturbation option is now deprecated in favor of using the appropriate masker (maskers.Independent, or maskers.Impute)\n"
     ]
    },
    {
     "data": {
      "image/png": "[encoded data removed]",
      "text/plain": [
       "<Figure size 576x424.8 with 1 Axes>"
      ]
     },
     "metadata": {
      "needs_background": "light"
     },
     "output_type": "display_data"
    },
    {
     "name": "stdout",
     "output_type": "stream",
     "text": [
      "educ\n",
      "Model score is 0.9714839254394326 on test data\n"
     ]
    },
    {
     "name": "stderr",
     "output_type": "stream",
     "text": [
      "The option feature_dependence has been renamed to feature_perturbation!\n",
      "The option feature_perturbation=\"independent\" is has been renamed to feature_perturbation=\"interventional\"!\n",
      "The feature_perturbation option is now deprecated in favor of using the appropriate masker (maskers.Independent, or maskers.Impute)\n"
     ]
    },
    {
     "data": {
      "image/png": "[encoded data removed]",
      "text/plain": [
       "<Figure size 576x396 with 1 Axes>"
      ]
     },
     "metadata": {
      "needs_background": "light"
     },
     "output_type": "display_data"
    },
    {
     "name": "stdout",
     "output_type": "stream",
     "text": [
      "envi\n",
      "Model score is 0.8693464130267645 on test data\n"
     ]
    },
    {
     "name": "stderr",
     "output_type": "stream",
     "text": [
      "The option feature_dependence has been renamed to feature_perturbation!\n",
      "The option feature_perturbation=\"independent\" is has been renamed to feature_perturbation=\"interventional\"!\n",
      "The feature_perturbation option is now deprecated in favor of using the appropriate masker (maskers.Independent, or maskers.Impute)\n"
     ]
    },
    {
     "data": {
      "image/png": "[encoded data removed]",
      "text/plain": [
       "<Figure size 576x338.4 with 1 Axes>"
      ]
     },
     "metadata": {
      "needs_background": "light"
     },
     "output_type": "display_data"
    },
    {
     "name": "stdout",
     "output_type": "stream",
     "text": [
      "gove\n",
      "Model score is 0.9720634493145955 on test data\n"
     ]
    },
    {
     "name": "stderr",
     "output_type": "stream",
     "text": [
      "The option feature_dependence has been renamed to feature_perturbation!\n",
      "The option feature_perturbation=\"independent\" is has been renamed to feature_perturbation=\"interventional\"!\n",
      "The feature_perturbation option is now deprecated in favor of using the appropriate masker (maskers.Independent, or maskers.Impute)\n"
     ]
    },
    {
     "data": {
      "image/png": "[encoded data removed]",
      "text/plain": [
       "<Figure size 576x424.8 with 1 Axes>"
      ]
     },
     "metadata": {
      "needs_background": "light"
     },
     "output_type": "display_data"
    },
    {
     "name": "stdout",
     "output_type": "stream",
     "text": [
      "heal\n",
      "Model score is 0.9582055194988243 on test data\n"
     ]
    },
    {
     "name": "stderr",
     "output_type": "stream",
     "text": [
      "The option feature_dependence has been renamed to feature_perturbation!\n",
      "The option feature_perturbation=\"independent\" is has been renamed to feature_perturbation=\"interventional\"!\n",
      "The feature_perturbation option is now deprecated in favor of using the appropriate masker (maskers.Independent, or maskers.Impute)\n"
     ]
    },
    {
     "data": {
      "image/png": "[encoded data removed]",
      "text/plain": [
       "<Figure size 576x338.4 with 1 Axes>"
      ]
     },
     "metadata": {
      "needs_background": "light"
     },
     "output_type": "display_data"
    },
    {
     "name": "stdout",
     "output_type": "stream",
     "text": [
      "pers\n",
      "Model score is 0.8898175490493122 on test data\n"
     ]
    },
    {
     "name": "stderr",
     "output_type": "stream",
     "text": [
      "The option feature_dependence has been renamed to feature_perturbation!\n",
      "The option feature_perturbation=\"independent\" is has been renamed to feature_perturbation=\"interventional\"!\n",
      "The feature_perturbation option is now deprecated in favor of using the appropriate masker (maskers.Independent, or maskers.Impute)\n"
     ]
    },
    {
     "data": {
      "image/png": "[encoded data removed]",
      "text/plain": [
       "<Figure size 576x338.4 with 1 Axes>"
      ]
     },
     "metadata": {
      "needs_background": "light"
     },
     "output_type": "display_data"
    },
    {
     "name": "stdout",
     "output_type": "stream",
     "text": [
      "safe\n",
      "Model score is 0.8733002709123954 on test data\n"
     ]
    },
    {
     "name": "stderr",
     "output_type": "stream",
     "text": [
      "The option feature_dependence has been renamed to feature_perturbation!\n",
      "The option feature_perturbation=\"independent\" is has been renamed to feature_perturbation=\"interventional\"!\n",
      "The feature_perturbation option is now deprecated in favor of using the appropriate masker (maskers.Independent, or maskers.Impute)\n"
     ]
    },
    {
     "data": {
      "image/png": "[encoded data removed]",
      "text/plain": [
       "<Figure size 576x309.6 with 1 Axes>"
      ]
     },
     "metadata": {
      "needs_background": "light"
     },
     "output_type": "display_data"
    },
    {
     "name": "stdout",
     "output_type": "stream",
     "text": [
      "soci\n",
      "Model score is 0.20461406724402587 on test data\n"
     ]
    },
    {
     "name": "stderr",
     "output_type": "stream",
     "text": [
      "The option feature_dependence has been renamed to feature_perturbation!\n",
      "The option feature_perturbation=\"independent\" is has been renamed to feature_perturbation=\"interventional\"!\n",
      "The feature_perturbation option is now deprecated in favor of using the appropriate masker (maskers.Independent, or maskers.Impute)\n"
     ]
    },
    {
     "data": {
      "image/png": "[encoded data removed]",
      "text/plain": [
       "<Figure size 576x136.8 with 1 Axes>"
      ]
     },
     "metadata": {
      "needs_background": "light"
     },
     "output_type": "display_data"
    }
   ],
   "source": [
    "pillars = ['busi', 'econ', 'educ', 'envi','gove', 'heal', 'pers', 'safe', 'soci']\n",
    "\n",
    "for pillar in pillars:\n",
    "    X_train, X_test, y_train, y_test = get_train_test(pillar)\n",
    "    print(pillar)\n",
    "    score, en = elastic(X_train, y_train, X_test, y_test)\n",
    "    get_SHAP_viz(en, X_train, X_test)"
   ]
  },
  {
   "cell_type": "code",
   "execution_count": 78,
   "id": "emerging-commercial",
   "metadata": {},
   "outputs": [],
   "source": [
    "# class ProsperityExplainer:\n",
    "    \n",
    "#     def __init__(self):\n",
    "#         self.prosperity_scores = "
   ]
  },
  {
   "cell_type": "code",
   "execution_count": 74,
   "id": "featured-condition",
   "metadata": {},
   "outputs": [
    {
     "data": {
      "text/plain": [
       "0.9465802996646316"
      ]
     },
     "execution_count": 74,
     "metadata": {},
     "output_type": "execute_result"
    }
   ],
   "source": [
    "en.score(X_test, y_test)"
   ]
  },
  {
   "cell_type": "code",
   "execution_count": null,
   "id": "modified-identity",
   "metadata": {},
   "outputs": [],
   "source": []
  }
 ],
 "metadata": {
  "kernelspec": {
   "display_name": "Python 3",
   "language": "python",
   "name": "python3"
  },
  "language_info": {
   "codemirror_mode": {
    "name": "ipython",
    "version": 3
   },
   "file_extension": ".py",
   "mimetype": "text/x-python",
   "name": "python",
   "nbconvert_exporter": "python",
   "pygments_lexer": "ipython3",
   "version": "3.8.2"
  }
 },
 "nbformat": 4,
 "nbformat_minor": 5
}
