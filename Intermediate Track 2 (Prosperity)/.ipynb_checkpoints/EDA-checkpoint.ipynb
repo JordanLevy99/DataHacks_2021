{
 "cells": [
  {
   "cell_type": "code",
   "execution_count": 27,
   "id": "nervous-oregon",
   "metadata": {},
   "outputs": [],
   "source": [
    "import pandas as pd\n",
    "import geopandas as gpd"
   ]
  },
  {
   "cell_type": "code",
   "execution_count": 1,
   "id": "recreational-queue",
   "metadata": {},
   "outputs": [
    {
     "data": {
      "application/javascript": [
       "\n",
       "        if (window._pyforest_update_imports_cell) { window._pyforest_update_imports_cell('import pandas as pd'); }\n",
       "    "
      ],
      "text/plain": [
       "<IPython.core.display.Javascript object>"
      ]
     },
     "metadata": {},
     "output_type": "display_data"
    },
    {
     "data": {
      "application/javascript": [
       "\n",
       "        if (window._pyforest_update_imports_cell) { window._pyforest_update_imports_cell('import pandas as pd'); }\n",
       "    "
      ],
      "text/plain": [
       "<IPython.core.display.Javascript object>"
      ]
     },
     "metadata": {},
     "output_type": "display_data"
    },
    {
     "data": {
      "application/javascript": [
       "\n",
       "        if (window._pyforest_update_imports_cell) { window._pyforest_update_imports_cell('import pandas as pd'); }\n",
       "    "
      ],
      "text/plain": [
       "<IPython.core.display.Javascript object>"
      ]
     },
     "metadata": {},
     "output_type": "display_data"
    },
    {
     "data": {
      "application/javascript": [
       "\n",
       "        if (window._pyforest_update_imports_cell) { window._pyforest_update_imports_cell('import pandas as pd'); }\n",
       "    "
      ],
      "text/plain": [
       "<IPython.core.display.Javascript object>"
      ]
     },
     "metadata": {},
     "output_type": "display_data"
    },
    {
     "data": {
      "application/javascript": [
       "\n",
       "        if (window._pyforest_update_imports_cell) { window._pyforest_update_imports_cell('import pandas as pd'); }\n",
       "    "
      ],
      "text/plain": [
       "<IPython.core.display.Javascript object>"
      ]
     },
     "metadata": {},
     "output_type": "display_data"
    },
    {
     "data": {
      "application/javascript": [
       "\n",
       "        if (window._pyforest_update_imports_cell) { window._pyforest_update_imports_cell('import pandas as pd'); }\n",
       "    "
      ],
      "text/plain": [
       "<IPython.core.display.Javascript object>"
      ]
     },
     "metadata": {},
     "output_type": "display_data"
    },
    {
     "data": {
      "application/javascript": [
       "\n",
       "        if (window._pyforest_update_imports_cell) { window._pyforest_update_imports_cell('import pandas as pd'); }\n",
       "    "
      ],
      "text/plain": [
       "<IPython.core.display.Javascript object>"
      ]
     },
     "metadata": {},
     "output_type": "display_data"
    },
    {
     "data": {
      "application/javascript": [
       "\n",
       "        if (window._pyforest_update_imports_cell) { window._pyforest_update_imports_cell('import pandas as pd'); }\n",
       "    "
      ],
      "text/plain": [
       "<IPython.core.display.Javascript object>"
      ]
     },
     "metadata": {},
     "output_type": "display_data"
    },
    {
     "data": {
      "application/javascript": [
       "\n",
       "        if (window._pyforest_update_imports_cell) { window._pyforest_update_imports_cell('import pandas as pd'); }\n",
       "    "
      ],
      "text/plain": [
       "<IPython.core.display.Javascript object>"
      ]
     },
     "metadata": {},
     "output_type": "display_data"
    }
   ],
   "source": [
    "busi = pd.read_csv('Datasets/busi_train.csv')\n",
    "econ = pd.read_csv('Datasets/econ_train.csv')\n",
    "educ = pd.read_csv('Datasets/educ_train.csv')\n",
    "envi = pd.read_csv('Datasets/envi_train.csv')\n",
    "gove = pd.read_csv('Datasets/gove_train.csv')\n",
    "heal = pd.read_csv('Datasets/heal_train.csv')\n",
    "pers = pd.read_csv('Datasets/pers_train.csv')\n",
    "safe = pd.read_csv('Datasets/safe_train.csv')\n",
    "soci = pd.read_csv('Datasets/soci_train.csv')"
   ]
  },
  {
   "cell_type": "code",
   "execution_count": 3,
   "id": "latter-treasury",
   "metadata": {},
   "outputs": [
    {
     "data": {
      "text/plain": [
       "Index(['Unnamed: 0', 'country', 'isonum', 'isocode', 'year', 'rank_busi',\n",
       "       'busi', 'start', 'start_year', 'ahead', 'ahead_year', 'logis',\n",
       "       'logis_year', 'bband', 'bband_year', 'redu', 'redu_year', 'hifi',\n",
       "       'hifi_year', 'affs', 'affs_year', 'ippr', 'ippr_year', 'insdtf',\n",
       "       'insdtf_year', 'creddtf', 'creddtf_year', 'elcostlnl', 'elcostlnl_year',\n",
       "       'stardtf', 'stardtf_year'],\n",
       "      dtype='object')"
      ]
     },
     "execution_count": 3,
     "metadata": {},
     "output_type": "execute_result"
    }
   ],
   "source": [
    "busi.columns"
   ]
  },
  {
   "cell_type": "code",
   "execution_count": 4,
   "id": "bulgarian-adaptation",
   "metadata": {},
   "outputs": [
    {
     "data": {
      "text/html": [
       "<div>\n",
       "<style scoped>\n",
       "    .dataframe tbody tr th:only-of-type {\n",
       "        vertical-align: middle;\n",
       "    }\n",
       "\n",
       "    .dataframe tbody tr th {\n",
       "        vertical-align: top;\n",
       "    }\n",
       "\n",
       "    .dataframe thead th {\n",
       "        text-align: right;\n",
       "    }\n",
       "</style>\n",
       "<table border=\"1\" class=\"dataframe\">\n",
       "  <thead>\n",
       "    <tr style=\"text-align: right;\">\n",
       "      <th></th>\n",
       "      <th>Unnamed: 0</th>\n",
       "      <th>country</th>\n",
       "      <th>isonum</th>\n",
       "      <th>isocode</th>\n",
       "      <th>year</th>\n",
       "      <th>rank_busi</th>\n",
       "      <th>busi</th>\n",
       "      <th>start</th>\n",
       "      <th>start_year</th>\n",
       "      <th>ahead</th>\n",
       "      <th>...</th>\n",
       "      <th>ippr</th>\n",
       "      <th>ippr_year</th>\n",
       "      <th>insdtf</th>\n",
       "      <th>insdtf_year</th>\n",
       "      <th>creddtf</th>\n",
       "      <th>creddtf_year</th>\n",
       "      <th>elcostlnl</th>\n",
       "      <th>elcostlnl_year</th>\n",
       "      <th>stardtf</th>\n",
       "      <th>stardtf_year</th>\n",
       "    </tr>\n",
       "  </thead>\n",
       "  <tbody>\n",
       "    <tr>\n",
       "      <th>0</th>\n",
       "      <td>0</td>\n",
       "      <td>Afghanistan</td>\n",
       "      <td>4</td>\n",
       "      <td>AFG</td>\n",
       "      <td>2007</td>\n",
       "      <td>127</td>\n",
       "      <td>35.308167</td>\n",
       "      <td>***</td>\n",
       "      <td>2011</td>\n",
       "      <td>***</td>\n",
       "      <td>...</td>\n",
       "      <td>2.457773</td>\n",
       "      <td>--</td>\n",
       "      <td>27.07</td>\n",
       "      <td>2007</td>\n",
       "      <td>6.25</td>\n",
       "      <td>2007</td>\n",
       "      <td>6.426812</td>\n",
       "      <td>2009</td>\n",
       "      <td>82.87</td>\n",
       "      <td>2007</td>\n",
       "    </tr>\n",
       "    <tr>\n",
       "      <th>1</th>\n",
       "      <td>1</td>\n",
       "      <td>Angola</td>\n",
       "      <td>24</td>\n",
       "      <td>AGO</td>\n",
       "      <td>2007</td>\n",
       "      <td>146</td>\n",
       "      <td>27.057371</td>\n",
       "      <td>***</td>\n",
       "      <td>2011</td>\n",
       "      <td>***</td>\n",
       "      <td>...</td>\n",
       "      <td>2.354330</td>\n",
       "      <td>2011</td>\n",
       "      <td>0.00</td>\n",
       "      <td>2007</td>\n",
       "      <td>18.75</td>\n",
       "      <td>2007</td>\n",
       "      <td>7.002247</td>\n",
       "      <td>2009</td>\n",
       "      <td>34.94</td>\n",
       "      <td>2007</td>\n",
       "    </tr>\n",
       "    <tr>\n",
       "      <th>2</th>\n",
       "      <td>2</td>\n",
       "      <td>Albania</td>\n",
       "      <td>8</td>\n",
       "      <td>ALB</td>\n",
       "      <td>2007</td>\n",
       "      <td>107</td>\n",
       "      <td>40.626377</td>\n",
       "      <td>***</td>\n",
       "      <td>2012</td>\n",
       "      <td>***</td>\n",
       "      <td>...</td>\n",
       "      <td>2.201990</td>\n",
       "      <td>2007</td>\n",
       "      <td>39.59</td>\n",
       "      <td>2007</td>\n",
       "      <td>56.25</td>\n",
       "      <td>2007</td>\n",
       "      <td>6.420809</td>\n",
       "      <td>2009</td>\n",
       "      <td>68.21</td>\n",
       "      <td>2007</td>\n",
       "    </tr>\n",
       "    <tr>\n",
       "      <th>3</th>\n",
       "      <td>3</td>\n",
       "      <td>United Arab Emirates</td>\n",
       "      <td>784</td>\n",
       "      <td>ARE</td>\n",
       "      <td>2007</td>\n",
       "      <td>42</td>\n",
       "      <td>52.791740</td>\n",
       "      <td>***</td>\n",
       "      <td>2011</td>\n",
       "      <td>***</td>\n",
       "      <td>...</td>\n",
       "      <td>4.843728</td>\n",
       "      <td>2007</td>\n",
       "      <td>28.76</td>\n",
       "      <td>2007</td>\n",
       "      <td>25.00</td>\n",
       "      <td>2007</td>\n",
       "      <td>2.850707</td>\n",
       "      <td>2009</td>\n",
       "      <td>71.61</td>\n",
       "      <td>2007</td>\n",
       "    </tr>\n",
       "    <tr>\n",
       "      <th>4</th>\n",
       "      <td>4</td>\n",
       "      <td>Argentina</td>\n",
       "      <td>32</td>\n",
       "      <td>ARG</td>\n",
       "      <td>2007</td>\n",
       "      <td>68</td>\n",
       "      <td>47.438419</td>\n",
       "      <td>***</td>\n",
       "      <td>2011</td>\n",
       "      <td>***</td>\n",
       "      <td>...</td>\n",
       "      <td>2.831459</td>\n",
       "      <td>2007</td>\n",
       "      <td>37.02</td>\n",
       "      <td>2007</td>\n",
       "      <td>62.50</td>\n",
       "      <td>2007</td>\n",
       "      <td>3.822098</td>\n",
       "      <td>2009</td>\n",
       "      <td>72.77</td>\n",
       "      <td>2007</td>\n",
       "    </tr>\n",
       "    <tr>\n",
       "      <th>...</th>\n",
       "      <td>...</td>\n",
       "      <td>...</td>\n",
       "      <td>...</td>\n",
       "      <td>...</td>\n",
       "      <td>...</td>\n",
       "      <td>...</td>\n",
       "      <td>...</td>\n",
       "      <td>...</td>\n",
       "      <td>...</td>\n",
       "      <td>...</td>\n",
       "      <td>...</td>\n",
       "      <td>...</td>\n",
       "      <td>...</td>\n",
       "      <td>...</td>\n",
       "      <td>...</td>\n",
       "      <td>...</td>\n",
       "      <td>...</td>\n",
       "      <td>...</td>\n",
       "      <td>...</td>\n",
       "      <td>...</td>\n",
       "      <td>...</td>\n",
       "    </tr>\n",
       "    <tr>\n",
       "      <th>1187</th>\n",
       "      <td>1187</td>\n",
       "      <td>Vietnam</td>\n",
       "      <td>704</td>\n",
       "      <td>VNM</td>\n",
       "      <td>2014</td>\n",
       "      <td>82</td>\n",
       "      <td>50.571323</td>\n",
       "      <td>***</td>\n",
       "      <td>2014</td>\n",
       "      <td>***</td>\n",
       "      <td>...</td>\n",
       "      <td>3.050503</td>\n",
       "      <td>2014</td>\n",
       "      <td>35.02</td>\n",
       "      <td>2014</td>\n",
       "      <td>65.00</td>\n",
       "      <td>2014</td>\n",
       "      <td>7.267386</td>\n",
       "      <td>2014</td>\n",
       "      <td>77.68</td>\n",
       "      <td>2014</td>\n",
       "    </tr>\n",
       "    <tr>\n",
       "      <th>1188</th>\n",
       "      <td>1188</td>\n",
       "      <td>Yemen</td>\n",
       "      <td>887</td>\n",
       "      <td>YEM</td>\n",
       "      <td>2014</td>\n",
       "      <td>146</td>\n",
       "      <td>34.814461</td>\n",
       "      <td>***</td>\n",
       "      <td>2014</td>\n",
       "      <td>***</td>\n",
       "      <td>...</td>\n",
       "      <td>2.314462</td>\n",
       "      <td>2014</td>\n",
       "      <td>27.46</td>\n",
       "      <td>2014</td>\n",
       "      <td>0.00</td>\n",
       "      <td>2014</td>\n",
       "      <td>8.158401</td>\n",
       "      <td>2014</td>\n",
       "      <td>74.43</td>\n",
       "      <td>2014</td>\n",
       "    </tr>\n",
       "    <tr>\n",
       "      <th>1189</th>\n",
       "      <td>1189</td>\n",
       "      <td>South Africa</td>\n",
       "      <td>710</td>\n",
       "      <td>ZAF</td>\n",
       "      <td>2014</td>\n",
       "      <td>35</td>\n",
       "      <td>59.192585</td>\n",
       "      <td>***</td>\n",
       "      <td>2014</td>\n",
       "      <td>***</td>\n",
       "      <td>...</td>\n",
       "      <td>5.300020</td>\n",
       "      <td>2014</td>\n",
       "      <td>64.51</td>\n",
       "      <td>2014</td>\n",
       "      <td>60.00</td>\n",
       "      <td>2014</td>\n",
       "      <td>6.592360</td>\n",
       "      <td>2014</td>\n",
       "      <td>81.18</td>\n",
       "      <td>2014</td>\n",
       "    </tr>\n",
       "    <tr>\n",
       "      <th>1190</th>\n",
       "      <td>1190</td>\n",
       "      <td>Zambia</td>\n",
       "      <td>894</td>\n",
       "      <td>ZMB</td>\n",
       "      <td>2014</td>\n",
       "      <td>57</td>\n",
       "      <td>54.895561</td>\n",
       "      <td>***</td>\n",
       "      <td>2014</td>\n",
       "      <td>***</td>\n",
       "      <td>...</td>\n",
       "      <td>4.024301</td>\n",
       "      <td>2014</td>\n",
       "      <td>39.88</td>\n",
       "      <td>2014</td>\n",
       "      <td>70.00</td>\n",
       "      <td>2014</td>\n",
       "      <td>6.730421</td>\n",
       "      <td>2014</td>\n",
       "      <td>86.91</td>\n",
       "      <td>2014</td>\n",
       "    </tr>\n",
       "    <tr>\n",
       "      <th>1191</th>\n",
       "      <td>1191</td>\n",
       "      <td>Zimbabwe</td>\n",
       "      <td>716</td>\n",
       "      <td>ZWE</td>\n",
       "      <td>2014</td>\n",
       "      <td>135</td>\n",
       "      <td>38.271263</td>\n",
       "      <td>***</td>\n",
       "      <td>2014</td>\n",
       "      <td>***</td>\n",
       "      <td>...</td>\n",
       "      <td>2.864656</td>\n",
       "      <td>2014</td>\n",
       "      <td>26.16</td>\n",
       "      <td>2014</td>\n",
       "      <td>45.00</td>\n",
       "      <td>2014</td>\n",
       "      <td>8.003964</td>\n",
       "      <td>2014</td>\n",
       "      <td>51.42</td>\n",
       "      <td>2014</td>\n",
       "    </tr>\n",
       "  </tbody>\n",
       "</table>\n",
       "<p>1192 rows × 31 columns</p>\n",
       "</div>"
      ],
      "text/plain": [
       "      Unnamed: 0               country  isonum isocode  year  rank_busi  \\\n",
       "0              0           Afghanistan       4     AFG  2007        127   \n",
       "1              1                Angola      24     AGO  2007        146   \n",
       "2              2               Albania       8     ALB  2007        107   \n",
       "3              3  United Arab Emirates     784     ARE  2007         42   \n",
       "4              4             Argentina      32     ARG  2007         68   \n",
       "...          ...                   ...     ...     ...   ...        ...   \n",
       "1187        1187               Vietnam     704     VNM  2014         82   \n",
       "1188        1188                 Yemen     887     YEM  2014        146   \n",
       "1189        1189          South Africa     710     ZAF  2014         35   \n",
       "1190        1190                Zambia     894     ZMB  2014         57   \n",
       "1191        1191              Zimbabwe     716     ZWE  2014        135   \n",
       "\n",
       "           busi start start_year ahead  ...      ippr  ippr_year insdtf  \\\n",
       "0     35.308167   ***       2011   ***  ...  2.457773         --  27.07   \n",
       "1     27.057371   ***       2011   ***  ...  2.354330       2011   0.00   \n",
       "2     40.626377   ***       2012   ***  ...  2.201990       2007  39.59   \n",
       "3     52.791740   ***       2011   ***  ...  4.843728       2007  28.76   \n",
       "4     47.438419   ***       2011   ***  ...  2.831459       2007  37.02   \n",
       "...         ...   ...        ...   ...  ...       ...        ...    ...   \n",
       "1187  50.571323   ***       2014   ***  ...  3.050503       2014  35.02   \n",
       "1188  34.814461   ***       2014   ***  ...  2.314462       2014  27.46   \n",
       "1189  59.192585   ***       2014   ***  ...  5.300020       2014  64.51   \n",
       "1190  54.895561   ***       2014   ***  ...  4.024301       2014  39.88   \n",
       "1191  38.271263   ***       2014   ***  ...  2.864656       2014  26.16   \n",
       "\n",
       "      insdtf_year creddtf  creddtf_year elcostlnl  elcostlnl_year stardtf  \\\n",
       "0            2007    6.25          2007  6.426812            2009   82.87   \n",
       "1            2007   18.75          2007  7.002247            2009   34.94   \n",
       "2            2007   56.25          2007  6.420809            2009   68.21   \n",
       "3            2007   25.00          2007  2.850707            2009   71.61   \n",
       "4            2007   62.50          2007  3.822098            2009   72.77   \n",
       "...           ...     ...           ...       ...             ...     ...   \n",
       "1187         2014   65.00          2014  7.267386            2014   77.68   \n",
       "1188         2014    0.00          2014  8.158401            2014   74.43   \n",
       "1189         2014   60.00          2014  6.592360            2014   81.18   \n",
       "1190         2014   70.00          2014  6.730421            2014   86.91   \n",
       "1191         2014   45.00          2014  8.003964            2014   51.42   \n",
       "\n",
       "      stardtf_year  \n",
       "0             2007  \n",
       "1             2007  \n",
       "2             2007  \n",
       "3             2007  \n",
       "4             2007  \n",
       "...            ...  \n",
       "1187          2014  \n",
       "1188          2014  \n",
       "1189          2014  \n",
       "1190          2014  \n",
       "1191          2014  \n",
       "\n",
       "[1192 rows x 31 columns]"
      ]
     },
     "execution_count": 4,
     "metadata": {},
     "output_type": "execute_result"
    }
   ],
   "source": [
    "busi"
   ]
  },
  {
   "cell_type": "code",
   "execution_count": 32,
   "id": "exempt-storm",
   "metadata": {},
   "outputs": [
    {
     "data": {
      "image/png": "[encoded data removed]",
      "text/plain": [
       "<Figure size 432x288 with 1 Axes>"
      ]
     },
     "metadata": {
      "needs_background": "light"
     },
     "output_type": "display_data"
    }
   ],
   "source": [
    "world = gpd.read_file(gpd.datasets.get_path('naturalearth_lowres'))\n",
    "world.plot();"
   ]
  },
  {
   "cell_type": "code",
   "execution_count": 57,
   "id": "rolled-chest",
   "metadata": {},
   "outputs": [],
   "source": [
    "# world_busi_2007 = world.merge(busi_2007[['isocode', 'busi']], left_on='iso_a3', right_on='isocode')\n",
    "# world_busi_2007.plot(column='busi', legend=True);"
   ]
  },
  {
   "cell_type": "code",
   "execution_count": 74,
   "id": "distinct-scanning",
   "metadata": {},
   "outputs": [],
   "source": [
    "# prosperity_data = pd.DataFrame(columns=[''])"
   ]
  },
  {
   "cell_type": "code",
   "execution_count": 147,
   "id": "contained-henry",
   "metadata": {},
   "outputs": [
    {
     "data": {
      "application/javascript": [
       "\n",
       "        if (window._pyforest_update_imports_cell) { window._pyforest_update_imports_cell('import os'); }\n",
       "    "
      ],
      "text/plain": [
       "<IPython.core.display.Javascript object>"
      ]
     },
     "metadata": {},
     "output_type": "display_data"
    },
    {
     "name": "stdout",
     "output_type": "stream",
     "text": [
      "Datasets/busi_train.csv\n",
      "Datasets/econ_train.csv\n",
      "Datasets/educ_train.csv\n",
      "Datasets/envi_train.csv\n",
      "Datasets/gove_train.csv\n",
      "Datasets/heal_train.csv\n",
      "Datasets/pers_train.csv\n",
      "Datasets/safe_train.csv\n",
      "Datasets/soci_train.csv\n"
     ]
    }
   ],
   "source": [
    "prosperity_data = pd.DataFrame()\n",
    "fpath = 'Datasets/'\n",
    "for file in sorted(os.listdir(fpath)):\n",
    "    if file.startswith('.') or 'test' in file: continue\n",
    "    print(fpath+file)\n",
    "    data = pd.read_csv(fpath+file)\n",
    "    pillar = file.split('/')[-1][:4]\n",
    "    if len(prosperity_data) == 0:\n",
    "        prosperity_data = data[['country', 'isonum', 'isocode', 'year', pillar]]\n",
    "        continue\n",
    "    prosperity_data = prosperity_data.merge(data[['country', 'year', pillar]], on=['country', 'year'], how='left')\n",
    "prosperity_data['prosperity'] = prosperity_data.apply(lambda x: x[4:].mean(), axis=1)"
   ]
  },
  {
   "cell_type": "code",
   "execution_count": 162,
   "id": "legendary-buyer",
   "metadata": {},
   "outputs": [
    {
     "data": {
      "application/javascript": [
       "\n",
       "        if (window._pyforest_update_imports_cell) { window._pyforest_update_imports_cell('import os\\nimport numpy as np'); }\n",
       "    "
      ],
      "text/plain": [
       "<IPython.core.display.Javascript object>"
      ]
     },
     "metadata": {},
     "output_type": "display_data"
    }
   ],
   "source": [
    "np.percentile?"
   ]
  },
  {
   "cell_type": "code",
   "execution_count": 179,
   "id": "correct-reunion",
   "metadata": {},
   "outputs": [
    {
     "data": {
      "application/javascript": [
       "\n",
       "        if (window._pyforest_update_imports_cell) { window._pyforest_update_imports_cell('import os\\nimport numpy as np\\nimport matplotlib.pyplot as plt'); }\n",
       "    "
      ],
      "text/plain": [
       "<IPython.core.display.Javascript object>"
      ]
     },
     "metadata": {},
     "output_type": "display_data"
    },
    {
     "data": {
      "application/javascript": [
       "\n",
       "        if (window._pyforest_update_imports_cell) { window._pyforest_update_imports_cell('import os\\nimport numpy as np\\nimport matplotlib.pyplot as plt'); }\n",
       "    "
      ],
      "text/plain": [
       "<IPython.core.display.Javascript object>"
      ]
     },
     "metadata": {},
     "output_type": "display_data"
    },
    {
     "data": {
      "application/javascript": [
       "\n",
       "        if (window._pyforest_update_imports_cell) { window._pyforest_update_imports_cell('import os\\nimport numpy as np\\nimport matplotlib.pyplot as plt'); }\n",
       "    "
      ],
      "text/plain": [
       "<IPython.core.display.Javascript object>"
      ]
     },
     "metadata": {},
     "output_type": "display_data"
    },
    {
     "data": {
      "application/javascript": [
       "\n",
       "        if (window._pyforest_update_imports_cell) { window._pyforest_update_imports_cell('import os\\nimport numpy as np\\nimport matplotlib.pyplot as plt'); }\n",
       "    "
      ],
      "text/plain": [
       "<IPython.core.display.Javascript object>"
      ]
     },
     "metadata": {},
     "output_type": "display_data"
    },
    {
     "data": {
      "image/png": "[encoded data removed]",
      "text/plain": [
       "<Figure size 432x288 with 1 Axes>"
      ]
     },
     "metadata": {
      "needs_background": "light"
     },
     "output_type": "display_data"
    }
   ],
   "source": [
    "avg_prosperity = prosperity_data.groupby('country').agg({'prosperity':'mean'})\n",
    "avg_prosperity.hist(bins=20);\n",
    "plt.title('Histogram of Average Prosperity by Country (2007-2014)');\n",
    "plt.ylabel('Count');\n",
    "plt.xlabel('Average Prosperity');\n",
    "plt.savefig('figures/avg_prosperity_country.png');"
   ]
  },
  {
   "cell_type": "code",
   "execution_count": 182,
   "id": "radical-enzyme",
   "metadata": {},
   "outputs": [
    {
     "data": {
      "application/javascript": [
       "\n",
       "        if (window._pyforest_update_imports_cell) { window._pyforest_update_imports_cell('import os\\nimport numpy as np\\nimport matplotlib.pyplot as plt'); }\n",
       "    "
      ],
      "text/plain": [
       "<IPython.core.display.Javascript object>"
      ]
     },
     "metadata": {},
     "output_type": "display_data"
    },
    {
     "data": {
      "application/javascript": [
       "\n",
       "        if (window._pyforest_update_imports_cell) { window._pyforest_update_imports_cell('import os\\nimport numpy as np\\nimport matplotlib.pyplot as plt'); }\n",
       "    "
      ],
      "text/plain": [
       "<IPython.core.display.Javascript object>"
      ]
     },
     "metadata": {},
     "output_type": "display_data"
    }
   ],
   "source": [
    "low_thresh, high_thresh = np.percentile(avg_prosperity['prosperity'], 25), np.percentile(avg_prosperity['prosperity'], 75)"
   ]
  },
  {
   "cell_type": "code",
   "execution_count": 185,
   "id": "dietary-bahrain",
   "metadata": {},
   "outputs": [
    {
     "data": {
      "text/html": [
       "<div>\n",
       "<style scoped>\n",
       "    .dataframe tbody tr th:only-of-type {\n",
       "        vertical-align: middle;\n",
       "    }\n",
       "\n",
       "    .dataframe tbody tr th {\n",
       "        vertical-align: top;\n",
       "    }\n",
       "\n",
       "    .dataframe thead th {\n",
       "        text-align: right;\n",
       "    }\n",
       "</style>\n",
       "<table border=\"1\" class=\"dataframe\">\n",
       "  <thead>\n",
       "    <tr style=\"text-align: right;\">\n",
       "      <th></th>\n",
       "      <th>prosperity</th>\n",
       "    </tr>\n",
       "    <tr>\n",
       "      <th>country</th>\n",
       "      <th></th>\n",
       "    </tr>\n",
       "  </thead>\n",
       "  <tbody>\n",
       "    <tr>\n",
       "      <th>Afghanistan</th>\n",
       "      <td>38.094497</td>\n",
       "    </tr>\n",
       "    <tr>\n",
       "      <th>Albania</th>\n",
       "      <td>56.783743</td>\n",
       "    </tr>\n",
       "    <tr>\n",
       "      <th>Algeria</th>\n",
       "      <td>51.495284</td>\n",
       "    </tr>\n",
       "    <tr>\n",
       "      <th>Angola</th>\n",
       "      <td>44.080507</td>\n",
       "    </tr>\n",
       "    <tr>\n",
       "      <th>Argentina</th>\n",
       "      <td>60.197203</td>\n",
       "    </tr>\n",
       "    <tr>\n",
       "      <th>...</th>\n",
       "      <td>...</td>\n",
       "    </tr>\n",
       "    <tr>\n",
       "      <th>Venezuela</th>\n",
       "      <td>52.487091</td>\n",
       "    </tr>\n",
       "    <tr>\n",
       "      <th>Vietnam</th>\n",
       "      <td>55.767340</td>\n",
       "    </tr>\n",
       "    <tr>\n",
       "      <th>Yemen</th>\n",
       "      <td>39.315900</td>\n",
       "    </tr>\n",
       "    <tr>\n",
       "      <th>Zambia</th>\n",
       "      <td>51.774263</td>\n",
       "    </tr>\n",
       "    <tr>\n",
       "      <th>Zimbabwe</th>\n",
       "      <td>46.588745</td>\n",
       "    </tr>\n",
       "  </tbody>\n",
       "</table>\n",
       "<p>149 rows × 1 columns</p>\n",
       "</div>"
      ],
      "text/plain": [
       "             prosperity\n",
       "country                \n",
       "Afghanistan   38.094497\n",
       "Albania       56.783743\n",
       "Algeria       51.495284\n",
       "Angola        44.080507\n",
       "Argentina     60.197203\n",
       "...                 ...\n",
       "Venezuela     52.487091\n",
       "Vietnam       55.767340\n",
       "Yemen         39.315900\n",
       "Zambia        51.774263\n",
       "Zimbabwe      46.588745\n",
       "\n",
       "[149 rows x 1 columns]"
      ]
     },
     "execution_count": 185,
     "metadata": {},
     "output_type": "execute_result"
    }
   ],
   "source": [
    "avg_prosperity"
   ]
  },
  {
   "cell_type": "code",
   "execution_count": 204,
   "id": "recreational-hours",
   "metadata": {},
   "outputs": [],
   "source": [
    "low_prosp_countries = list(avg_prosperity.sort_values(by='prosperity').head().index)\n",
    "high_prosp_countries = list(avg_prosperity.sort_values(by='prosperity', ascending=False).head().index)\n",
    "\n",
    "# low_prosp_countries = list(avg_prosperity[avg_prosperity['prosperity'] < low_thresh].index)\n",
    "# high_prosp_countries = list(avg_prosperity[avg_prosperity['prosperity'] > high_thresh].index)"
   ]
  },
  {
   "cell_type": "code",
   "execution_count": 206,
   "id": "choice-appreciation",
   "metadata": {},
   "outputs": [],
   "source": [
    "low_prosp = prosperity_data.loc[prosperity_data['country'].isin(low_prosp_countries)]\n",
    "high_prosp = prosperity_data.loc[prosperity_data['country'].isin(high_prosp_countries)]"
   ]
  },
  {
   "cell_type": "code",
   "execution_count": 213,
   "id": "personalized-fabric",
   "metadata": {},
   "outputs": [
    {
     "data": {
      "text/html": [
       "<div>\n",
       "<style scoped>\n",
       "    .dataframe tbody tr th:only-of-type {\n",
       "        vertical-align: middle;\n",
       "    }\n",
       "\n",
       "    .dataframe tbody tr th {\n",
       "        vertical-align: top;\n",
       "    }\n",
       "\n",
       "    .dataframe thead th {\n",
       "        text-align: right;\n",
       "    }\n",
       "</style>\n",
       "<table border=\"1\" class=\"dataframe\">\n",
       "  <thead>\n",
       "    <tr style=\"text-align: right;\">\n",
       "      <th></th>\n",
       "      <th>country</th>\n",
       "      <th>isonum</th>\n",
       "      <th>isocode</th>\n",
       "      <th>year</th>\n",
       "      <th>busi</th>\n",
       "      <th>econ</th>\n",
       "      <th>educ</th>\n",
       "      <th>envi</th>\n",
       "      <th>gove</th>\n",
       "      <th>heal</th>\n",
       "      <th>pers</th>\n",
       "      <th>safe</th>\n",
       "      <th>soci</th>\n",
       "      <th>prosperity</th>\n",
       "    </tr>\n",
       "  </thead>\n",
       "  <tbody>\n",
       "    <tr>\n",
       "      <th>0</th>\n",
       "      <td>Afghanistan</td>\n",
       "      <td>4</td>\n",
       "      <td>AFG</td>\n",
       "      <td>2007</td>\n",
       "      <td>35.308167</td>\n",
       "      <td>53.251713</td>\n",
       "      <td>22.494400</td>\n",
       "      <td>39.293343</td>\n",
       "      <td>29.760307</td>\n",
       "      <td>51.600807</td>\n",
       "      <td>32.290104</td>\n",
       "      <td>37.240280</td>\n",
       "      <td>37.691658</td>\n",
       "      <td>37.658975</td>\n",
       "    </tr>\n",
       "    <tr>\n",
       "      <th>21</th>\n",
       "      <td>Central African Republic</td>\n",
       "      <td>140</td>\n",
       "      <td>CAF</td>\n",
       "      <td>2007</td>\n",
       "      <td>32.341671</td>\n",
       "      <td>47.065258</td>\n",
       "      <td>14.890825</td>\n",
       "      <td>57.751083</td>\n",
       "      <td>30.621109</td>\n",
       "      <td>48.610046</td>\n",
       "      <td>39.125755</td>\n",
       "      <td>45.644588</td>\n",
       "      <td>49.440567</td>\n",
       "      <td>40.610100</td>\n",
       "    </tr>\n",
       "    <tr>\n",
       "      <th>28</th>\n",
       "      <td>Democratic Republic of Congo</td>\n",
       "      <td>180</td>\n",
       "      <td>COD</td>\n",
       "      <td>2007</td>\n",
       "      <td>29.712538</td>\n",
       "      <td>44.540390</td>\n",
       "      <td>25.522465</td>\n",
       "      <td>43.459938</td>\n",
       "      <td>32.023346</td>\n",
       "      <td>49.674644</td>\n",
       "      <td>34.753948</td>\n",
       "      <td>40.697247</td>\n",
       "      <td>41.214432</td>\n",
       "      <td>37.955439</td>\n",
       "    </tr>\n",
       "    <tr>\n",
       "      <th>131</th>\n",
       "      <td>Chad</td>\n",
       "      <td>148</td>\n",
       "      <td>TCD</td>\n",
       "      <td>2007</td>\n",
       "      <td>24.860708</td>\n",
       "      <td>44.910275</td>\n",
       "      <td>18.215061</td>\n",
       "      <td>49.705330</td>\n",
       "      <td>22.125023</td>\n",
       "      <td>40.261261</td>\n",
       "      <td>28.320700</td>\n",
       "      <td>45.529568</td>\n",
       "      <td>32.680004</td>\n",
       "      <td>34.067548</td>\n",
       "    </tr>\n",
       "    <tr>\n",
       "      <th>145</th>\n",
       "      <td>Yemen</td>\n",
       "      <td>887</td>\n",
       "      <td>YEM</td>\n",
       "      <td>2007</td>\n",
       "      <td>26.433035</td>\n",
       "      <td>43.772652</td>\n",
       "      <td>24.555931</td>\n",
       "      <td>41.838284</td>\n",
       "      <td>31.517176</td>\n",
       "      <td>58.336777</td>\n",
       "      <td>32.102787</td>\n",
       "      <td>58.399433</td>\n",
       "      <td>42.226910</td>\n",
       "      <td>39.909220</td>\n",
       "    </tr>\n",
       "  </tbody>\n",
       "</table>\n",
       "</div>"
      ],
      "text/plain": [
       "                          country  isonum isocode  year       busi       econ  \\\n",
       "0                     Afghanistan       4     AFG  2007  35.308167  53.251713   \n",
       "21       Central African Republic     140     CAF  2007  32.341671  47.065258   \n",
       "28   Democratic Republic of Congo     180     COD  2007  29.712538  44.540390   \n",
       "131                          Chad     148     TCD  2007  24.860708  44.910275   \n",
       "145                         Yemen     887     YEM  2007  26.433035  43.772652   \n",
       "\n",
       "          educ       envi       gove       heal       pers       safe  \\\n",
       "0    22.494400  39.293343  29.760307  51.600807  32.290104  37.240280   \n",
       "21   14.890825  57.751083  30.621109  48.610046  39.125755  45.644588   \n",
       "28   25.522465  43.459938  32.023346  49.674644  34.753948  40.697247   \n",
       "131  18.215061  49.705330  22.125023  40.261261  28.320700  45.529568   \n",
       "145  24.555931  41.838284  31.517176  58.336777  32.102787  58.399433   \n",
       "\n",
       "          soci  prosperity  \n",
       "0    37.691658   37.658975  \n",
       "21   49.440567   40.610100  \n",
       "28   41.214432   37.955439  \n",
       "131  32.680004   34.067548  \n",
       "145  42.226910   39.909220  "
      ]
     },
     "execution_count": 213,
     "metadata": {},
     "output_type": "execute_result"
    }
   ],
   "source": [
    "(low_prosp).head()"
   ]
  },
  {
   "cell_type": "code",
   "execution_count": 218,
   "id": "indie-fourth",
   "metadata": {},
   "outputs": [
    {
     "data": {
      "application/javascript": [
       "\n",
       "        if (window._pyforest_update_imports_cell) { window._pyforest_update_imports_cell('import os\\nimport numpy as np\\nimport seaborn as sns\\nimport matplotlib.pyplot as plt'); }\n",
       "    "
      ],
      "text/plain": [
       "<IPython.core.display.Javascript object>"
      ]
     },
     "metadata": {},
     "output_type": "display_data"
    },
    {
     "data": {
      "image/png": "[encoded data removed]",
      "text/plain": [
       "<Figure size 432x288 with 1 Axes>"
      ]
     },
     "metadata": {
      "needs_background": "light"
     },
     "output_type": "display_data"
    }
   ],
   "source": [
    "sns.lineplot(data=low_prosp, x='year', y='prosperity', hue='country');"
   ]
  },
  {
   "cell_type": "code",
   "execution_count": 220,
   "id": "measured-acceptance",
   "metadata": {},
   "outputs": [
    {
     "data": {
      "application/javascript": [
       "\n",
       "        if (window._pyforest_update_imports_cell) { window._pyforest_update_imports_cell('import os\\nimport numpy as np\\nimport seaborn as sns\\nimport matplotlib.pyplot as plt'); }\n",
       "    "
      ],
      "text/plain": [
       "<IPython.core.display.Javascript object>"
      ]
     },
     "metadata": {},
     "output_type": "display_data"
    },
    {
     "data": {
      "image/png": "[encoded data removed]",
      "text/plain": [
       "<Figure size 432x288 with 1 Axes>"
      ]
     },
     "metadata": {
      "needs_background": "light"
     },
     "output_type": "display_data"
    }
   ],
   "source": [
    "# Business is booming, increasing for most of the bottom countries\n",
    "sns.lineplot(data=low_prosp, x='year', y='busi', hue='country');"
   ]
  },
  {
   "cell_type": "code",
   "execution_count": 221,
   "id": "public-switzerland",
   "metadata": {},
   "outputs": [
    {
     "data": {
      "application/javascript": [
       "\n",
       "        if (window._pyforest_update_imports_cell) { window._pyforest_update_imports_cell('import os\\nimport numpy as np\\nimport seaborn as sns\\nimport matplotlib.pyplot as plt'); }\n",
       "    "
      ],
      "text/plain": [
       "<IPython.core.display.Javascript object>"
      ]
     },
     "metadata": {},
     "output_type": "display_data"
    },
    {
     "data": {
      "image/png": "[encoded data removed]",
      "text/plain": [
       "<Figure size 432x288 with 1 Axes>"
      ]
     },
     "metadata": {
      "needs_background": "light"
     },
     "output_type": "display_data"
    }
   ],
   "source": [
    "# Government is stagnant / declining\n",
    "sns.lineplot(data=low_prosp, x='year', y='gove', hue='country');"
   ]
  },
  {
   "cell_type": "code",
   "execution_count": null,
   "id": "formed-wagon",
   "metadata": {},
   "outputs": [],
   "source": [
    "# Predicting prosperity from pillars, then categories, ... use SHAP to determine feature importance...\n",
    "\n",
    "# Idea: Hierarchical clustering, first from pillars, then categories"
   ]
  },
  {
   "cell_type": "code",
   "execution_count": null,
   "id": "divided-personality",
   "metadata": {},
   "outputs": [],
   "source": [
    "### Next: Line plots for categories within each pillar"
   ]
  },
  {
   "cell_type": "code",
   "execution_count": 194,
   "id": "foster-election",
   "metadata": {},
   "outputs": [],
   "source": [
    "# avg_prosperity.sort_values(by='prosperity', ascending=False).head(20)"
   ]
  },
  {
   "cell_type": "code",
   "execution_count": null,
   "id": "communist-tulsa",
   "metadata": {},
   "outputs": [],
   "source": []
  }
 ],
 "metadata": {
  "kernelspec": {
   "display_name": "Python 3",
   "language": "python",
   "name": "python3"
  },
  "language_info": {
   "codemirror_mode": {
    "name": "ipython",
    "version": 3
   },
   "file_extension": ".py",
   "mimetype": "text/x-python",
   "name": "python",
   "nbconvert_exporter": "python",
   "pygments_lexer": "ipython3",
   "version": "3.8.2"
  }
 },
 "nbformat": 4,
 "nbformat_minor": 5
}
